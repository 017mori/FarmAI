{
  "nbformat": 4,
  "nbformat_minor": 0,
  "metadata": {
    "colab": {
      "name": "Analises.ipynb",
      "provenance": [],
      "collapsed_sections": [],
      "include_colab_link": true
    },
    "kernelspec": {
      "name": "python3",
      "display_name": "Python 3"
    }
  },
  "cells": [
    {
      "cell_type": "markdown",
      "metadata": {
        "id": "view-in-github",
        "colab_type": "text"
      },
      "source": [
        "<a href=\"https://colab.research.google.com/github/017mori/FarmAI/blob/master/Analises.ipynb\" target=\"_parent\"><img src=\"https://colab.research.google.com/assets/colab-badge.svg\" alt=\"Open In Colab\"/></a>"
      ]
    },
    {
      "cell_type": "markdown",
      "metadata": {
        "id": "ULgVtJ9LH_It",
        "colab_type": "text"
      },
      "source": [
        "# Indice\n",
        "1) Extração dos dados\n",
        "\n",
        "2) Dicionário de dados\n",
        "\n",
        "3) Transformação\n",
        "\n",
        "4) Analise das informcações\n",
        "\n",
        "5) Modelagem Matemática\n",
        "\n",
        "6) Resultados"
      ]
    },
    {
      "cell_type": "markdown",
      "metadata": {
        "id": "MLRj-pG0IhL5",
        "colab_type": "text"
      },
      "source": [
        "# Dicionário de dados\n",
        "\n",
        "\n",
        "\n",
        "1.   PRODUTIVIDADE_FINAL   = % da produtividade resultada da produção;\n",
        "2.   PERDA_FINAL           = % da perda da produção;\n",
        "3.   CHUVA_DO_PERIODO      = Quantidade de chuvas em mm no periodo;\n",
        "4.   TEMPERATURA_MEDIA     = Temperatura média do período em ºC;\n",
        "5.   MAIOR_TEMPERATURA_MAX = Temperatura máxima do período em ºC;\n",
        "6.   MENOR_TEMPERATURA_MIN = Temperatura miníma do período em ºC;\n",
        "7.   Estadual              = Preço médio da saca de 50kg de arroz arrigado em RS; \t\n",
        "8.   Nacional              = Preço médio da saca de 50kg de arroz arrigado no Brasil.\n",
        "\n",
        " "
      ]
    },
    {
      "cell_type": "markdown",
      "metadata": {
        "id": "fV9ftZTmIwL3",
        "colab_type": "text"
      },
      "source": [
        ""
      ]
    },
    {
      "cell_type": "markdown",
      "metadata": {
        "id": "i4KUm0ZPfCDA",
        "colab_type": "text"
      },
      "source": [
        "\n",
        "# Análise sobre o preço médio de arroz do RS vs Produtividade do arroz em Alegrete-RS.\n",
        "* Para saber mais sobre regreção [click aqui](https://realpython.com/linear-regression-in-python/).\n",
        "---\n"
      ]
    },
    {
      "cell_type": "code",
      "metadata": {
        "id": "vBdLO9KtekLY",
        "colab_type": "code",
        "colab": {}
      },
      "source": [
        "#Para trabalharmos com os bancos de dados\n",
        "import pandas as pd\n",
        "import numpy as np\n",
        "\n",
        "#Para as regreções\n",
        "from sklearn.linear_model import LinearRegression\n",
        "from sklearn import preprocessing\n",
        "from sklearn.preprocessing import PolynomialFeatures\n",
        "import statsmodels.api as sm\n",
        "from sklearn.metrics import mean_squared_error\n",
        "\n",
        "#Para os gráficos\n",
        "import matplotlib.pyplot as plt\n",
        "from mpl_toolkits.mplot3d import Axes3D\n",
        "import seaborn as sns"
      ],
      "execution_count": null,
      "outputs": []
    },
    {
      "cell_type": "markdown",
      "metadata": {
        "id": "AnbHQ2IdfBKn",
        "colab_type": "text"
      },
      "source": [
        "#1) Extração dos dados\n",
        "##Importando os bancos de dados:\n",
        "###Sobre o banco de dados\n",
        "*   Contém variáveis de Produtividade de Arroz Arrigado em Alegrete (cidade de RS); variáveis climáticas; e os valores médio de arroz arrigado por saca de 50kg no RS;  \n",
        "*   Uma informação util é que o arroz levou 3 meses para ser colhido, logo, todo o banco de dados é um acompanhamento das variáveis durante o período de Novembro de 2019 á Julho de 2020;\n",
        "*Você pode encontrar os dados no site do [INMET](https://http://sisdagro.inmet.gov.br/sisdagro/app/monitoramento/bhc) e do [AGROLINK](https://www.agrolink.com.br/cotacoes/historico/rs/arroz-irrigado-em-casca-sc-50kg).\n",
        "\n",
        "---\n",
        "\n"
      ]
    },
    {
      "cell_type": "code",
      "metadata": {
        "id": "l2VC3hVjfAMf",
        "colab_type": "code",
        "colab": {
          "base_uri": "https://localhost:8080/",
          "height": 224
        },
        "outputId": "021accae-26af-44a6-c7a3-97bbfad0e9da"
      },
      "source": [
        "url = \"https://raw.githubusercontent.com/017mori/FarmAI/master/Alegrete-RS.csv\"\n",
        "alegrete_df = pd.read_csv(url, sep =\";\", decimal=\",\")\n",
        "alegrete_df.head()"
      ],
      "execution_count": null,
      "outputs": [
        {
          "output_type": "execute_result",
          "data": {
            "text/html": [
              "<div>\n",
              "<style scoped>\n",
              "    .dataframe tbody tr th:only-of-type {\n",
              "        vertical-align: middle;\n",
              "    }\n",
              "\n",
              "    .dataframe tbody tr th {\n",
              "        vertical-align: top;\n",
              "    }\n",
              "\n",
              "    .dataframe thead th {\n",
              "        text-align: right;\n",
              "    }\n",
              "</style>\n",
              "<table border=\"1\" class=\"dataframe\">\n",
              "  <thead>\n",
              "    <tr style=\"text-align: right;\">\n",
              "      <th></th>\n",
              "      <th>DATA</th>\n",
              "      <th>PRODUTIVIDADE_FINAL</th>\n",
              "      <th>PERDA_FINAL</th>\n",
              "      <th>TOTAL_DE_DIAS_SEM_CHUVA</th>\n",
              "      <th>CHUVA_DO_PERIODO</th>\n",
              "      <th>TEMPERATURA_MEDIA</th>\n",
              "      <th>MAIOR_TEMPERATURA_MAX</th>\n",
              "      <th>MENOR_TEMPERATURA_MIN</th>\n",
              "      <th>Estadual</th>\n",
              "      <th>Nacional</th>\n",
              "    </tr>\n",
              "  </thead>\n",
              "  <tbody>\n",
              "    <tr>\n",
              "      <th>0</th>\n",
              "      <td>01/01/2018</td>\n",
              "      <td>70.00</td>\n",
              "      <td>29.75</td>\n",
              "      <td>81</td>\n",
              "      <td>483.0</td>\n",
              "      <td>21.10</td>\n",
              "      <td>37.7</td>\n",
              "      <td>7.2</td>\n",
              "      <td>36.63</td>\n",
              "      <td>36.75</td>\n",
              "    </tr>\n",
              "    <tr>\n",
              "      <th>1</th>\n",
              "      <td>02/01/2018</td>\n",
              "      <td>45.03</td>\n",
              "      <td>54.97</td>\n",
              "      <td>78</td>\n",
              "      <td>516.0</td>\n",
              "      <td>22.44</td>\n",
              "      <td>37.7</td>\n",
              "      <td>7.2</td>\n",
              "      <td>35.92</td>\n",
              "      <td>35.14</td>\n",
              "    </tr>\n",
              "    <tr>\n",
              "      <th>2</th>\n",
              "      <td>03/01/2018</td>\n",
              "      <td>28.04</td>\n",
              "      <td>71.96</td>\n",
              "      <td>85</td>\n",
              "      <td>459.6</td>\n",
              "      <td>23.61</td>\n",
              "      <td>37.7</td>\n",
              "      <td>7.3</td>\n",
              "      <td>34.90</td>\n",
              "      <td>34.25</td>\n",
              "    </tr>\n",
              "    <tr>\n",
              "      <th>3</th>\n",
              "      <td>04/01/2018</td>\n",
              "      <td>53.28</td>\n",
              "      <td>46.72</td>\n",
              "      <td>79</td>\n",
              "      <td>564.0</td>\n",
              "      <td>23.94</td>\n",
              "      <td>37.7</td>\n",
              "      <td>10.5</td>\n",
              "      <td>35.32</td>\n",
              "      <td>34.71</td>\n",
              "    </tr>\n",
              "    <tr>\n",
              "      <th>4</th>\n",
              "      <td>05/01/2018</td>\n",
              "      <td>55.17</td>\n",
              "      <td>44.83</td>\n",
              "      <td>78</td>\n",
              "      <td>505.2</td>\n",
              "      <td>23.42</td>\n",
              "      <td>35.4</td>\n",
              "      <td>10.5</td>\n",
              "      <td>35.87</td>\n",
              "      <td>35.17</td>\n",
              "    </tr>\n",
              "  </tbody>\n",
              "</table>\n",
              "</div>"
            ],
            "text/plain": [
              "         DATA  PRODUTIVIDADE_FINAL  ...  Estadual  Nacional\n",
              "0  01/01/2018                70.00  ...     36.63     36.75\n",
              "1  02/01/2018                45.03  ...     35.92     35.14\n",
              "2  03/01/2018                28.04  ...     34.90     34.25\n",
              "3  04/01/2018                53.28  ...     35.32     34.71\n",
              "4  05/01/2018                55.17  ...     35.87     35.17\n",
              "\n",
              "[5 rows x 10 columns]"
            ]
          },
          "metadata": {
            "tags": []
          },
          "execution_count": 59
        }
      ]
    },
    {
      "cell_type": "markdown",
      "metadata": {
        "id": "k-43XrHNjjHq",
        "colab_type": "text"
      },
      "source": [
        "#Análise das variáveis do banco de dados:\n",
        "---"
      ]
    },
    {
      "cell_type": "code",
      "metadata": {
        "id": "H7WInoAQjogW",
        "colab_type": "code",
        "colab": {
          "base_uri": "https://localhost:8080/",
          "height": 306
        },
        "outputId": "7f5f1e3a-5ff5-4d4e-ed41-dda83175b4bc"
      },
      "source": [
        "alegrete_df.info()"
      ],
      "execution_count": null,
      "outputs": [
        {
          "output_type": "stream",
          "text": [
            "<class 'pandas.core.frame.DataFrame'>\n",
            "RangeIndex: 31 entries, 0 to 30\n",
            "Data columns (total 10 columns):\n",
            " #   Column                   Non-Null Count  Dtype  \n",
            "---  ------                   --------------  -----  \n",
            " 0   DATA                     31 non-null     object \n",
            " 1   PRODUTIVIDADE_FINAL      31 non-null     float64\n",
            " 2   PERDA_FINAL              31 non-null     float64\n",
            " 3   TOTAL_DE_DIAS_SEM_CHUVA  31 non-null     int64  \n",
            " 4   CHUVA_DO_PERIODO         31 non-null     float64\n",
            " 5   TEMPERATURA_MEDIA        31 non-null     float64\n",
            " 6   MAIOR_TEMPERATURA_MAX    31 non-null     float64\n",
            " 7   MENOR_TEMPERATURA_MIN    31 non-null     float64\n",
            " 8   Estadual                 31 non-null     float64\n",
            " 9   Nacional                 31 non-null     float64\n",
            "dtypes: float64(8), int64(1), object(1)\n",
            "memory usage: 2.5+ KB\n"
          ],
          "name": "stdout"
        }
      ]
    },
    {
      "cell_type": "markdown",
      "metadata": {
        "id": "9C2ScD23l2WI",
        "colab_type": "text"
      },
      "source": [
        "#Análise descritiva dos dados:\n",
        "* Rodamos um comando para demonstrar as medidas mais importantes de todas as variáveis.\n",
        "---"
      ]
    },
    {
      "cell_type": "code",
      "metadata": {
        "id": "TUQWWiJnkmlK",
        "colab_type": "code",
        "colab": {
          "base_uri": "https://localhost:8080/",
          "height": 317
        },
        "outputId": "ec81b861-0a04-42c8-ab0d-76d279bb4533"
      },
      "source": [
        "alegrete_df.describe()"
      ],
      "execution_count": null,
      "outputs": [
        {
          "output_type": "execute_result",
          "data": {
            "text/html": [
              "<div>\n",
              "<style scoped>\n",
              "    .dataframe tbody tr th:only-of-type {\n",
              "        vertical-align: middle;\n",
              "    }\n",
              "\n",
              "    .dataframe tbody tr th {\n",
              "        vertical-align: top;\n",
              "    }\n",
              "\n",
              "    .dataframe thead th {\n",
              "        text-align: right;\n",
              "    }\n",
              "</style>\n",
              "<table border=\"1\" class=\"dataframe\">\n",
              "  <thead>\n",
              "    <tr style=\"text-align: right;\">\n",
              "      <th></th>\n",
              "      <th>PRODUTIVIDADE_FINAL</th>\n",
              "      <th>PERDA_FINAL</th>\n",
              "      <th>TOTAL_DE_DIAS_SEM_CHUVA</th>\n",
              "      <th>CHUVA_DO_PERIODO</th>\n",
              "      <th>TEMPERATURA_MEDIA</th>\n",
              "      <th>MAIOR_TEMPERATURA_MAX</th>\n",
              "      <th>MENOR_TEMPERATURA_MIN</th>\n",
              "      <th>Estadual</th>\n",
              "      <th>Nacional</th>\n",
              "    </tr>\n",
              "  </thead>\n",
              "  <tbody>\n",
              "    <tr>\n",
              "      <th>count</th>\n",
              "      <td>31.00000</td>\n",
              "      <td>31.000000</td>\n",
              "      <td>31.000000</td>\n",
              "      <td>31.000000</td>\n",
              "      <td>31.000000</td>\n",
              "      <td>31.000000</td>\n",
              "      <td>31.000000</td>\n",
              "      <td>31.000000</td>\n",
              "      <td>31.000000</td>\n",
              "    </tr>\n",
              "    <tr>\n",
              "      <th>mean</th>\n",
              "      <td>61.69871</td>\n",
              "      <td>38.324839</td>\n",
              "      <td>79.096774</td>\n",
              "      <td>536.743548</td>\n",
              "      <td>20.230323</td>\n",
              "      <td>36.319355</td>\n",
              "      <td>3.787097</td>\n",
              "      <td>43.898065</td>\n",
              "      <td>43.249677</td>\n",
              "    </tr>\n",
              "    <tr>\n",
              "      <th>std</th>\n",
              "      <td>20.84381</td>\n",
              "      <td>20.813681</td>\n",
              "      <td>6.415371</td>\n",
              "      <td>196.178171</td>\n",
              "      <td>3.372528</td>\n",
              "      <td>2.875693</td>\n",
              "      <td>4.771355</td>\n",
              "      <td>6.851721</td>\n",
              "      <td>6.403960</td>\n",
              "    </tr>\n",
              "    <tr>\n",
              "      <th>min</th>\n",
              "      <td>23.63000</td>\n",
              "      <td>5.370000</td>\n",
              "      <td>70.000000</td>\n",
              "      <td>221.000000</td>\n",
              "      <td>13.540000</td>\n",
              "      <td>29.300000</td>\n",
              "      <td>-3.200000</td>\n",
              "      <td>34.900000</td>\n",
              "      <td>34.250000</td>\n",
              "    </tr>\n",
              "    <tr>\n",
              "      <th>25%</th>\n",
              "      <td>48.17500</td>\n",
              "      <td>20.120000</td>\n",
              "      <td>75.000000</td>\n",
              "      <td>447.100000</td>\n",
              "      <td>17.935000</td>\n",
              "      <td>34.900000</td>\n",
              "      <td>-0.550000</td>\n",
              "      <td>40.075000</td>\n",
              "      <td>39.825000</td>\n",
              "    </tr>\n",
              "    <tr>\n",
              "      <th>50%</th>\n",
              "      <td>62.15000</td>\n",
              "      <td>37.850000</td>\n",
              "      <td>78.000000</td>\n",
              "      <td>505.200000</td>\n",
              "      <td>21.130000</td>\n",
              "      <td>37.100000</td>\n",
              "      <td>3.300000</td>\n",
              "      <td>43.160000</td>\n",
              "      <td>42.470000</td>\n",
              "    </tr>\n",
              "    <tr>\n",
              "      <th>75%</th>\n",
              "      <td>79.88000</td>\n",
              "      <td>51.825000</td>\n",
              "      <td>80.500000</td>\n",
              "      <td>580.000000</td>\n",
              "      <td>23.280000</td>\n",
              "      <td>37.700000</td>\n",
              "      <td>8.600000</td>\n",
              "      <td>45.725000</td>\n",
              "      <td>45.280000</td>\n",
              "    </tr>\n",
              "    <tr>\n",
              "      <th>max</th>\n",
              "      <td>94.63000</td>\n",
              "      <td>76.370000</td>\n",
              "      <td>95.000000</td>\n",
              "      <td>1037.600000</td>\n",
              "      <td>24.680000</td>\n",
              "      <td>40.000000</td>\n",
              "      <td>10.500000</td>\n",
              "      <td>62.550000</td>\n",
              "      <td>60.310000</td>\n",
              "    </tr>\n",
              "  </tbody>\n",
              "</table>\n",
              "</div>"
            ],
            "text/plain": [
              "       PRODUTIVIDADE_FINAL  PERDA_FINAL  ...   Estadual   Nacional\n",
              "count             31.00000    31.000000  ...  31.000000  31.000000\n",
              "mean              61.69871    38.324839  ...  43.898065  43.249677\n",
              "std               20.84381    20.813681  ...   6.851721   6.403960\n",
              "min               23.63000     5.370000  ...  34.900000  34.250000\n",
              "25%               48.17500    20.120000  ...  40.075000  39.825000\n",
              "50%               62.15000    37.850000  ...  43.160000  42.470000\n",
              "75%               79.88000    51.825000  ...  45.725000  45.280000\n",
              "max               94.63000    76.370000  ...  62.550000  60.310000\n",
              "\n",
              "[8 rows x 9 columns]"
            ]
          },
          "metadata": {
            "tags": []
          },
          "execution_count": 61
        }
      ]
    },
    {
      "cell_type": "markdown",
      "metadata": {
        "id": "lPDCaHbXuoSB",
        "colab_type": "text"
      },
      "source": [
        "#Visualização dos dados:\n",
        "* Para não perdermos tempo, eu vou deixar aqui os gráficos das variáveis em que estamos interessados;\n",
        "---\n",
        "\n"
      ]
    },
    {
      "cell_type": "code",
      "metadata": {
        "id": "wIWasMpolDIL",
        "colab_type": "code",
        "colab": {
          "base_uri": "https://localhost:8080/",
          "height": 297
        },
        "outputId": "b9025370-66c0-40fd-f0cd-6bc13c1b41c5"
      },
      "source": [
        "sns.boxplot(x=alegrete_df[\"PRODUTIVIDADE_FINAL\"])"
      ],
      "execution_count": null,
      "outputs": [
        {
          "output_type": "execute_result",
          "data": {
            "text/plain": [
              "<matplotlib.axes._subplots.AxesSubplot at 0x7fa4c4f155c0>"
            ]
          },
          "metadata": {
            "tags": []
          },
          "execution_count": 62
        },
        {
          "output_type": "display_data",
          "data": {
            "image/png": "[encoded data removed]",
            "text/plain": [
              "<Figure size 432x288 with 1 Axes>"
            ]
          },
          "metadata": {
            "tags": [],
            "needs_background": "light"
          }
        }
      ]
    },
    {
      "cell_type": "code",
      "metadata": {
        "id": "0N9KcZi5IikS",
        "colab_type": "code",
        "colab": {
          "base_uri": "https://localhost:8080/",
          "height": 1000
        },
        "outputId": "1e8cfed6-52c6-445e-d624-ce68be3ddf8a"
      },
      "source": [
        "sns.pairplot(alegrete_df[['PRODUTIVIDADE_FINAL', 'TOTAL_DE_DIAS_SEM_CHUVA', 'CHUVA_DO_PERIODO', 'TEMPERATURA_MEDIA', 'MAIOR_TEMPERATURA_MAX', 'MENOR_TEMPERATURA_MIN']])"
      ],
      "execution_count": null,
      "outputs": [
        {
          "output_type": "execute_result",
          "data": {
            "text/plain": [
              "<seaborn.axisgrid.PairGrid at 0x7fa4c4e98780>"
            ]
          },
          "metadata": {
            "tags": []
          },
          "execution_count": 63
        },
        {
          "output_type": "display_data",
          "data": {
            "image/png": "[encoded data removed]",
            "text/plain": [
              "<Figure size 1080x1080 with 42 Axes>"
            ]
          },
          "metadata": {
            "tags": [],
            "needs_background": "light"
          }
        }
      ]
    },
    {
      "cell_type": "markdown",
      "metadata": {
        "id": "JNX3e0ut3byF",
        "colab_type": "text"
      },
      "source": [
        "#Regressão Linear:\n",
        "* Aqui podemos ver todas as relações em que o nÍvel de produção tem em relação as outras variáveis.\n",
        "---"
      ]
    },
    {
      "cell_type": "code",
      "metadata": {
        "id": "7z4Kzt0V3m9c",
        "colab_type": "code",
        "colab": {
          "base_uri": "https://localhost:8080/",
          "height": 1000
        },
        "outputId": "592f3fde-cde4-4654-eadc-82fd416c62bc"
      },
      "source": [
        "#Para cada variável estamos relacionando com o nível de produtividade\n",
        "for i in range(8):\n",
        "  print(\"\")\n",
        "  print(\"\")\n",
        "  print(i)\n",
        "  x = alegrete_df.iloc[:,1]\n",
        "  y = alegrete_df.iloc[:,i+2]\n",
        "\n",
        "  x = x[:, np.newaxis]\n",
        "  y = y[:, np.newaxis]\n",
        "\n",
        "  model = LinearRegression()\n",
        "  model.fit(x, y)\n",
        "  y_pred = model.predict(x)\n",
        "  r_sq = model.score(x, y)\n",
        "\n",
        "  plt.scatter(x, y)\n",
        "  plt.plot(x, y_pred, color='r')\n",
        "  plt.show()\n",
        "  print('coefficient of determination:', r_sq)\n",
        "  print('intercept:', model.intercept_)\n",
        "  print('slope:', model.coef_)"
      ],
      "execution_count": null,
      "outputs": [
        {
          "output_type": "stream",
          "text": [
            "\n",
            "\n",
            "0\n"
          ],
          "name": "stdout"
        },
        {
          "output_type": "display_data",
          "data": {
            "image/png": "[encoded data removed]",
            "text/plain": [
              "<Figure size 432x288 with 1 Axes>"
            ]
          },
          "metadata": {
            "tags": [],
            "needs_background": "light"
          }
        },
        {
          "output_type": "stream",
          "text": [
            "coefficient of determination: 0.9999248211905215\n",
            "intercept: [99.93205005]\n",
            "slope: [[-0.99851701]]\n",
            "\n",
            "\n",
            "1\n"
          ],
          "name": "stdout"
        },
        {
          "output_type": "display_data",
          "data": {
            "image/png": "[encoded data removed]",
            "text/plain": [
              "<Figure size 432x288 with 1 Axes>"
            ]
          },
          "metadata": {
            "tags": [],
            "needs_background": "light"
          }
        },
        {
          "output_type": "stream",
          "text": [
            "coefficient of determination: 0.4787511057901703\n",
            "intercept: [92.23617845]\n",
            "slope: [[-0.21296076]]\n",
            "\n",
            "\n",
            "2\n"
          ],
          "name": "stdout"
        },
        {
          "output_type": "display_data",
          "data": {
            "image/png": "[encoded data removed]",
            "text/plain": [
              "<Figure size 432x288 with 1 Axes>"
            ]
          },
          "metadata": {
            "tags": [],
            "needs_background": "light"
          }
        },
        {
          "output_type": "stream",
          "text": [
            "coefficient of determination: 0.05135815850478642\n",
            "intercept: [405.14400479]\n",
            "slope: [[2.13293834]]\n",
            "\n",
            "\n",
            "3\n"
          ],
          "name": "stdout"
        },
        {
          "output_type": "display_data",
          "data": {
            "image/png": "[encoded data removed]",
            "text/plain": [
              "<Figure size 432x288 with 1 Axes>"
            ]
          },
          "metadata": {
            "tags": [],
            "needs_background": "light"
          }
        },
        {
          "output_type": "stream",
          "text": [
            "coefficient of determination: 0.6232647287349642\n",
            "intercept: [28.11149419]\n",
            "slope: [[-0.12773641]]\n",
            "\n",
            "\n",
            "4\n"
          ],
          "name": "stdout"
        },
        {
          "output_type": "display_data",
          "data": {
            "image/png": "[encoded data removed]",
            "text/plain": [
              "<Figure size 432x288 with 1 Axes>"
            ]
          },
          "metadata": {
            "tags": [],
            "needs_background": "light"
          }
        },
        {
          "output_type": "stream",
          "text": [
            "coefficient of determination: 0.6522429404910299\n",
            "intercept: [43.19393634]\n",
            "slope: [[-0.1114218]]\n",
            "\n",
            "\n",
            "5\n"
          ],
          "name": "stdout"
        },
        {
          "output_type": "display_data",
          "data": {
            "image/png": "[encoded data removed]",
            "text/plain": [
              "<Figure size 432x288 with 1 Axes>"
            ]
          },
          "metadata": {
            "tags": [],
            "needs_background": "light"
          }
        },
        {
          "output_type": "stream",
          "text": [
            "coefficient of determination: 0.44072397705261196\n",
            "intercept: [13.16323595]\n",
            "slope: [[-0.15196654]]\n",
            "\n",
            "\n",
            "6\n"
          ],
          "name": "stdout"
        },
        {
          "output_type": "display_data",
          "data": {
            "image/png": "[encoded data removed]",
            "text/plain": [
              "<Figure size 432x288 with 1 Axes>"
            ]
          },
          "metadata": {
            "tags": [],
            "needs_background": "light"
          }
        },
        {
          "output_type": "stream",
          "text": [
            "coefficient of determination: 0.12208907994218565\n",
            "intercept: [50.98465017]\n",
            "slope: [[-0.11485792]]\n",
            "\n",
            "\n",
            "7\n"
          ],
          "name": "stdout"
        },
        {
          "output_type": "display_data",
          "data": {
            "image/png": "[encoded data removed]",
            "text/plain": [
              "<Figure size 432x288 with 1 Axes>"
            ]
          },
          "metadata": {
            "tags": [],
            "needs_background": "light"
          }
        },
        {
          "output_type": "stream",
          "text": [
            "coefficient of determination: 0.10986298716725562\n",
            "intercept: [49.53276757]\n",
            "slope: [[-0.10183503]]\n"
          ],
          "name": "stdout"
        }
      ]
    },
    {
      "cell_type": "markdown",
      "metadata": {
        "id": "g5Dd8212-4Yv",
        "colab_type": "text"
      },
      "source": [
        "\n",
        "#Regreção Linear Multipla \n",
        "* Sabendo que a maioria das variáveis tem alguma relação com o nível de produtividade, então resolvemos implementar a RLM para demonstrar que a maioria das variáveis estão relacionadas com o nível de produtividade.\n",
        "---"
      ]
    },
    {
      "cell_type": "code",
      "metadata": {
        "id": "ZiidVawstshR",
        "colab_type": "code",
        "colab": {}
      },
      "source": [
        "alvo = alegrete_df[\"PRODUTIVIDADE_FINAL\"]\n",
        "inputs = alegrete_df.drop([\"PRODUTIVIDADE_FINAL\", \"PERDA_FINAL\", \"DATA\", \"Nacional\"] , axis=1)"
      ],
      "execution_count": null,
      "outputs": []
    },
    {
      "cell_type": "code",
      "metadata": {
        "id": "Vb_I9_QFuD9-",
        "colab_type": "code",
        "colab": {
          "base_uri": "https://localhost:8080/",
          "height": 34
        },
        "outputId": "7963b7fb-c571-4b30-b775-22ff6197795e"
      },
      "source": [
        "from sklearn.preprocessing import StandardScaler\n",
        "\n",
        "scaler = StandardScaler()\n",
        "scaler.fit(inputs)"
      ],
      "execution_count": null,
      "outputs": [
        {
          "output_type": "execute_result",
          "data": {
            "text/plain": [
              "StandardScaler(copy=True, with_mean=True, with_std=True)"
            ]
          },
          "metadata": {
            "tags": []
          },
          "execution_count": 66
        }
      ]
    },
    {
      "cell_type": "code",
      "metadata": {
        "id": "9VUZy-_ouSLN",
        "colab_type": "code",
        "colab": {}
      },
      "source": [
        "inputs_scaled = scaler.transform(inputs)\n",
        "scaled_inputs = preprocessing.scale(inputs)"
      ],
      "execution_count": null,
      "outputs": []
    },
    {
      "cell_type": "code",
      "metadata": {
        "id": "PXMUYWbMuj6X",
        "colab_type": "code",
        "colab": {
          "base_uri": "https://localhost:8080/",
          "height": 34
        },
        "outputId": "4aef7b95-8db1-4cb4-d187-21e4b171a526"
      },
      "source": [
        "reg = LinearRegression()\n",
        "reg.fit(scaled_inputs, alvo) "
      ],
      "execution_count": null,
      "outputs": [
        {
          "output_type": "execute_result",
          "data": {
            "text/plain": [
              "LinearRegression(copy_X=True, fit_intercept=True, n_jobs=None, normalize=False)"
            ]
          },
          "metadata": {
            "tags": []
          },
          "execution_count": 68
        }
      ]
    },
    {
      "cell_type": "code",
      "metadata": {
        "id": "cG19iaaSudEW",
        "colab_type": "code",
        "colab": {}
      },
      "source": [
        "y_hat = reg.predict(inputs)"
      ],
      "execution_count": null,
      "outputs": []
    },
    {
      "cell_type": "code",
      "metadata": {
        "id": "a14gzp3Kuo2O",
        "colab_type": "code",
        "colab": {
          "base_uri": "https://localhost:8080/",
          "height": 317
        },
        "outputId": "e31d90da-25eb-4217-a977-a316d2fc3f22"
      },
      "source": [
        "sns.distplot(alvo - y_hat)\n",
        "plt.title(\"Redidual\", size=18)"
      ],
      "execution_count": null,
      "outputs": [
        {
          "output_type": "execute_result",
          "data": {
            "text/plain": [
              "Text(0.5, 1.0, 'Redidual')"
            ]
          },
          "metadata": {
            "tags": []
          },
          "execution_count": 70
        },
        {
          "output_type": "display_data",
          "data": {
            "image/png": "[encoded data removed]",
            "text/plain": [
              "<Figure size 432x288 with 1 Axes>"
            ]
          },
          "metadata": {
            "tags": [],
            "needs_background": "light"
          }
        }
      ]
    },
    {
      "cell_type": "code",
      "metadata": {
        "id": "1UbT0DOhuxLH",
        "colab_type": "code",
        "colab": {
          "base_uri": "https://localhost:8080/",
          "height": 34
        },
        "outputId": "5dd141be-bf92-4c02-c32d-6aba8c95e922"
      },
      "source": [
        "reg.intercept_"
      ],
      "execution_count": null,
      "outputs": [
        {
          "output_type": "execute_result",
          "data": {
            "text/plain": [
              "61.698709677419394"
            ]
          },
          "metadata": {
            "tags": []
          },
          "execution_count": 71
        }
      ]
    },
    {
      "cell_type": "code",
      "metadata": {
        "id": "K1SNxh64uzze",
        "colab_type": "code",
        "colab": {
          "base_uri": "https://localhost:8080/",
          "height": 51
        },
        "outputId": "4978428d-7a80-48ba-8eec-08cace9e46b2"
      },
      "source": [
        "reg.coef_"
      ],
      "execution_count": null,
      "outputs": [
        {
          "output_type": "execute_result",
          "data": {
            "text/plain": [
              "array([-5.77980291,  2.30028964, -8.5843026 , -3.51934262, -3.82252245,\n",
              "       -2.64719282])"
            ]
          },
          "metadata": {
            "tags": []
          },
          "execution_count": 72
        }
      ]
    },
    {
      "cell_type": "code",
      "metadata": {
        "id": "teDOTEAhu0QG",
        "colab_type": "code",
        "colab": {
          "base_uri": "https://localhost:8080/",
          "height": 136
        },
        "outputId": "8ed001ba-42d5-4aec-8559-98a171354674"
      },
      "source": [
        "reg.predict(scaled_inputs)\n",
        "predito = reg.predict(scaled_inputs)\n",
        "reg.predict(scaled_inputs)"
      ],
      "execution_count": null,
      "outputs": [
        {
          "output_type": "execute_result",
          "data": {
            "text/plain": [
              "array([55.42232957, 55.37481712, 45.58366368, 48.69814925, 52.90389845,\n",
              "       63.08431525, 76.75074042, 80.44681215, 95.93968217, 95.12636706,\n",
              "       85.1262733 , 75.97686701, 59.74669789, 59.44134966, 53.04141297,\n",
              "       57.55920802, 59.64302192, 64.97408634, 73.12322799, 84.23727661,\n",
              "       87.81145778, 75.76910984, 76.95995769, 67.99852823, 56.8329201 ,\n",
              "       46.00376367, 36.01996058, 22.25802592, 23.87587388, 32.18173559,\n",
              "       44.7484699 ])"
            ]
          },
          "metadata": {
            "tags": []
          },
          "execution_count": 73
        }
      ]
    },
    {
      "cell_type": "markdown",
      "metadata": {
        "id": "dfDZQCql01n6",
        "colab_type": "text"
      },
      "source": [
        "#Verificacao do modelo"
      ]
    },
    {
      "cell_type": "markdown",
      "metadata": {
        "id": "GOlrWtHP04U7",
        "colab_type": "text"
      },
      "source": [
        "## R ao quadrado\n",
        "\n",
        "Quanto mais proximo de 1 for o R ao quadrado, melhor representa o modelo matematico com o observado."
      ]
    },
    {
      "cell_type": "code",
      "metadata": {
        "id": "cq_vGjzBuu4-",
        "colab_type": "code",
        "colab": {
          "base_uri": "https://localhost:8080/",
          "height": 34
        },
        "outputId": "2408426a-224d-4ca3-f861-7ec9d476bd82"
      },
      "source": [
        "reg.score(scaled_inputs ,alvo)"
      ],
      "execution_count": null,
      "outputs": [
        {
          "output_type": "execute_result",
          "data": {
            "text/plain": [
              "0.85845043067415"
            ]
          },
          "metadata": {
            "tags": []
          },
          "execution_count": 74
        }
      ]
    },
    {
      "cell_type": "markdown",
      "metadata": {
        "id": "6uk7xAME1DEV",
        "colab_type": "text"
      },
      "source": [
        "Nosso R ao quadrado chegou a 0.875, sendo um valor bom."
      ]
    },
    {
      "cell_type": "markdown",
      "metadata": {
        "id": "K4bBO5mn0QA1",
        "colab_type": "text"
      },
      "source": [
        "## Erro Quadrático Médio\n",
        "\n",
        "O M.S.E. é a média do quadrado do desvio entre os valores preditos e os observados, opta-se para escolha de um valor baixo para SME."
      ]
    },
    {
      "cell_type": "code",
      "metadata": {
        "id": "Fnrvcgdtu5Sm",
        "colab_type": "code",
        "colab": {
          "base_uri": "https://localhost:8080/",
          "height": 34
        },
        "outputId": "eb59b0a8-ee48-4e75-dcf1-612ee47f8200"
      },
      "source": [
        "from sklearn.metrics import mean_squared_error\n",
        "mean_squared_error(alvo, predito)"
      ],
      "execution_count": null,
      "outputs": [
        {
          "output_type": "execute_result",
          "data": {
            "text/plain": [
              "59.51443491053372"
            ]
          },
          "metadata": {
            "tags": []
          },
          "execution_count": 75
        }
      ]
    },
    {
      "cell_type": "markdown",
      "metadata": {
        "id": "fSHjAQHD0wXT",
        "colab_type": "text"
      },
      "source": [
        ""
      ]
    },
    {
      "cell_type": "markdown",
      "metadata": {
        "id": "kkQcDUh1zsOk",
        "colab_type": "text"
      },
      "source": [
        "##Erro Percentual Absoluto médio\n",
        "\n",
        "O MAPE é a média de todos os erros absolut percetuais e indica a média do erro absoluto em termos percentuais, independete se este erro for negativo ou posivivo, assim quanto menor for o MAPE mais acurado é o modelo"
      ]
    },
    {
      "cell_type": "code",
      "metadata": {
        "id": "t29NWeHVvBLe",
        "colab_type": "code",
        "colab": {
          "base_uri": "https://localhost:8080/",
          "height": 34
        },
        "outputId": "a11c6fed-6caa-4c6f-bdbb-35fc35628203"
      },
      "source": [
        "def mean_absolute_percentage_error(y_true, y_pred): \n",
        "    y_true, y_pred = np.array(y_true), np.array(y_pred)\n",
        "    return np.mean(np.abs((y_true - y_pred) / y_true)) * 100\n",
        "\n",
        "mean_absolute_percentage_error(alvo, predito)"
      ],
      "execution_count": null,
      "outputs": [
        {
          "output_type": "execute_result",
          "data": {
            "text/plain": [
              "13.066902341765955"
            ]
          },
          "metadata": {
            "tags": []
          },
          "execution_count": 76
        }
      ]
    },
    {
      "cell_type": "markdown",
      "metadata": {
        "id": "ZHAO_v3G0DNz",
        "colab_type": "text"
      },
      "source": [
        "Analisando o MAPE da regressâo temos um valor ótimo, sendo que aglumas literaturas identificam como bom <= a 50"
      ]
    },
    {
      "cell_type": "code",
      "metadata": {
        "id": "jZ_efQiFvEzN",
        "colab_type": "code",
        "colab": {
          "base_uri": "https://localhost:8080/",
          "height": 34
        },
        "outputId": "f8372f06-63ef-4659-ac1b-f41b625af572"
      },
      "source": [
        "def desvio_medio_absoluto(y_true, y_pred): \n",
        "    y_true, y_pred = np.array(y_true), np.array(y_pred)\n",
        "    return np.sum(np.abs((y_pred - y_true))) * len(y_true)\n",
        "\n",
        "desvio_medio_absoluto(alvo, predito)"
      ],
      "execution_count": null,
      "outputs": [
        {
          "output_type": "execute_result",
          "data": {
            "text/plain": [
              "6001.247550714283"
            ]
          },
          "metadata": {
            "tags": []
          },
          "execution_count": 77
        }
      ]
    },
    {
      "cell_type": "markdown",
      "metadata": {
        "id": "jKvKjmqgxPc6",
        "colab_type": "text"
      },
      "source": [
        "##BIAS\n",
        "\n",
        "Bias é o erro sistemático associado à análise. Ele mede a tendência de o modelo suprestimar ou substmar o valor predito em relação ao valor observado."
      ]
    },
    {
      "cell_type": "code",
      "metadata": {
        "id": "FxWGNOg5w-e_",
        "colab_type": "code",
        "colab": {
          "base_uri": "https://localhost:8080/",
          "height": 34
        },
        "outputId": "9d61795f-a170-488b-96cd-23a5891e23f4"
      },
      "source": [
        "def bias(y_true, y_pred): \n",
        "    y_true, y_pred = np.array(y_true), np.array(y_pred)\n",
        "    return np.sum(((y_pred - y_true))) * len(y_true)\n",
        "\n",
        "bias(alvo, predito)"
      ],
      "execution_count": null,
      "outputs": [
        {
          "output_type": "execute_result",
          "data": {
            "text/plain": [
              "1.057287590811029e-11"
            ]
          },
          "metadata": {
            "tags": []
          },
          "execution_count": 78
        }
      ]
    },
    {
      "cell_type": "markdown",
      "metadata": {
        "id": "SCm2XQ7yx4q2",
        "colab_type": "text"
      },
      "source": [
        "O valor do BIAS da regressão deu zero sendo um excelente"
      ]
    },
    {
      "cell_type": "code",
      "metadata": {
        "id": "Sn4lnkqhx_X0",
        "colab_type": "code",
        "colab": {}
      },
      "source": [
        ""
      ],
      "execution_count": null,
      "outputs": []
    },
    {
      "cell_type": "markdown",
      "metadata": {
        "id": "FImWtUDE9b94",
        "colab_type": "text"
      },
      "source": [
        "#Regressão Polinomial\n",
        "* Mas como o foco é o preço médio da saca de arrroz vs o nível de produtividade, logo, vamos realizar uma regreção polinimial para identificar com mais clareza a relação não lienar que essa variáveis detem, visto em gráficos anteriores.\n",
        "---\n"
      ]
    },
    {
      "cell_type": "code",
      "metadata": {
        "id": "nZVPfk369cr8",
        "colab_type": "code",
        "colab": {
          "base_uri": "https://localhost:8080/",
          "height": 258
        },
        "outputId": "33ecb8f9-7404-4544-aa17-93c34cf66ba3"
      },
      "source": [
        "#Importando os dados para as variáveis\n",
        "X = np.array(alegrete_df.iloc[:,1]).reshape((-1, 1))\n",
        "Y = np.array(alegrete_df.iloc[:,3:9])\n",
        "\n",
        "#Caso queira normalizar os dados antes de colocalos no modelo\n",
        "#X_scaled = preprocessing.scale(x)\n",
        "#Y_scaled = preprocessing.scale(y)\n",
        "\n",
        "#Trnasformando os dados de entrada\n",
        "x_ = PolynomialFeatures(degree=2, include_bias=False).fit_transform(X) ##include_bias=True\n",
        "\n",
        "#Criando modelo e o fit\n",
        "model = LinearRegression().fit(x_, Y)\n",
        "\n",
        "#Respostas do Modelo de RPM\n",
        "r_sq = model.score(x_, Y)\n",
        "intercept2, coefficients2 = model.intercept_, model.coef_\n",
        "\n",
        "print('coefficient of determination:', r_sq)\n",
        "print(\"\")\n",
        "print('intercept:', model.intercept_)\n",
        "print(\"\")\n",
        "print('coefficients:', model.coef_)"
      ],
      "execution_count": null,
      "outputs": [
        {
          "output_type": "stream",
          "text": [
            "coefficient of determination: 0.2675064342127614\n",
            "\n",
            "intercept: [ 103.85749768 -269.49229674   20.04459424   38.48777245    2.06384676\n",
            "   69.86812905]\n",
            "\n",
            "coefficients: [[-6.61866857e-01  3.80291514e-03]\n",
            " [ 2.81926603e+01 -2.20765350e-01]\n",
            " [ 1.83870258e-01 -2.63978085e-03]\n",
            " [ 7.03669945e-02 -1.54002670e-03]\n",
            " [ 2.76778545e-01 -3.63212079e-03]\n",
            " [-8.44285330e-01  6.17935591e-03]]\n"
          ],
          "name": "stdout"
        },
        {
          "output_type": "stream",
          "text": [
            "/usr/local/lib/python3.6/dist-packages/sklearn/base.py:434: FutureWarning: The default value of multioutput (not exposed in score method) will change from 'variance_weighted' to 'uniform_average' in 0.23 to keep consistent with 'metrics.r2_score'. To specify the default value manually and avoid the warning, please either call 'metrics.r2_score' directly or make a custom scorer with 'metrics.make_scorer' (the built-in scorer 'r2' uses multioutput='uniform_average').\n",
            "  \"multioutput='uniform_average').\", FutureWarning)\n"
          ],
          "name": "stderr"
        }
      ]
    },
    {
      "cell_type": "code",
      "metadata": {
        "id": "Fc5u_fJQ4NHq",
        "colab_type": "code",
        "colab": {
          "base_uri": "https://localhost:8080/",
          "height": 1000
        },
        "outputId": "be45ef09-789e-4f85-9702-cfdfa446cdc2"
      },
      "source": [
        "X = np.array(alegrete_df.iloc[:,1])\n",
        "Y = np.array(alegrete_df.iloc[:,3:9])\n",
        "y_pred = model.predict(x_)\n",
        "print('predicted response:', y_pred, sep='\\n')\n"
      ],
      "execution_count": null,
      "outputs": [
        {
          "output_type": "stream",
          "text": [
            "predicted response:\n",
            "[[ 7.61611019e+01  6.22243708e+02  1.99805862e+01  3.58673312e+01\n",
            "   3.64095305e+00  4.10469999e+01]\n",
            " [ 8.17648076e+01  5.52377096e+02  2.29715860e+01  3.85336847e+01\n",
            "   7.16233005e+00  4.43798462e+01]\n",
            " [ 8.82887611e+01  3.47454995e+02  2.31248108e+01  3.92500299e+01\n",
            "   6.96899270e+00  5.10528351e+01]\n",
            " [ 7.93887888e+01  6.05913151e+02  2.23475015e+01  3.78651622e+01\n",
            "   6.49989424e+00  4.24263051e+01]\n",
            " [ 7.89173459e+01  6.13946895e+02  2.21539391e+01  3.76824958e+01\n",
            "   6.27852808e+00  4.20971915e+01]\n",
            " [ 7.80049446e+01  6.25789553e+02  2.16795185e+01  3.72573789e+01\n",
            "   5.72139311e+00  4.15439825e+01]\n",
            " [ 7.56834838e+01  6.06902843e+02  1.91520054e+01  3.52285890e+01\n",
            "   2.60104266e+00  4.12441945e+01]\n",
            " [ 7.50762909e+01  5.32692756e+02  1.66249685e+01  3.33594910e+01\n",
            "  -6.21417648e-01  4.27312140e+01]\n",
            " [ 7.52547940e+01  4.27398035e+02  1.39438420e+01  3.14528984e+01\n",
            "  -4.08967184e+00  4.51666323e+01]\n",
            " [ 7.52795218e+01  4.21461444e+02  1.38054298e+01  3.13559132e+01\n",
            "  -4.26964878e+00  4.53085326e+01]\n",
            " [ 7.50617840e+01  5.20133898e+02  1.62740517e+01  3.31064281e+01\n",
            "  -1.07308768e+00  4.30104901e+01]\n",
            " [ 7.52756025e+01  5.76670085e+02  1.79829209e+01  3.43520841e+01\n",
            "   1.11784280e+00  4.17997573e+01]\n",
            " [ 7.74116981e+01  6.29948331e+02  2.12756539e+01  3.69125394e+01\n",
            "   5.23612185e+00  4.12643149e+01]\n",
            " [ 7.99063894e+01  5.95915966e+02  2.25283131e+01  3.80429730e+01\n",
            "   6.70205117e+00  4.28142376e+01]\n",
            " [ 7.63779713e+01  6.26021730e+02  2.02709468e+01  3.60957676e+01\n",
            "   4.00240420e+00  4.10294998e+01]\n",
            " [ 7.89052427e+01  6.14138013e+02  2.21485624e+01  3.76775139e+01\n",
            "   6.27231951e+00  4.20890842e+01]\n",
            " [ 7.94764820e+01  6.04300543e+02  2.23803208e+01  3.78968552e+01\n",
            "   6.53696285e+00  4.24901960e+01]\n",
            " [ 7.57995056e+01  6.11829536e+02  1.93856104e+01  3.54069398e+01\n",
            "   2.89534529e+00  4.11691709e+01]\n",
            " [ 7.50816337e+01  5.35553831e+02  1.67066842e+01  3.34186027e+01\n",
            "  -5.16357951e-01  4.26682290e+01]\n",
            " [ 7.51054251e+01  5.45016266e+02  1.69822656e+01  3.36184902e+01\n",
            "  -1.62396132e-01  4.24618348e+01]\n",
            " [ 7.51313374e+01  5.52411917e+02  1.72040179e+01  3.37799629e+01\n",
            "   1.22021007e-01  4.23028115e+01]\n",
            " [ 7.52321520e+01  5.71008635e+02  1.77926320e+01  3.42115500e+01\n",
            "   8.75051541e-01  4.19141002e+01]\n",
            " [ 7.58480247e+01  6.13616326e+02  1.94759341e+01  3.54762396e+01\n",
            "   3.00891860e+00  4.11439776e+01]\n",
            " [ 7.83354811e+01  6.22150640e+02  2.18689326e+01  3.74239717e+01\n",
            "   5.94585316e+00  4.17296745e+01]\n",
            " [ 7.65353653e+01  6.27932912e+02  2.04592997e+01  3.62455046e+01\n",
            "   4.23587092e+00  4.10355728e+01]\n",
            " [ 8.25093878e+01  5.32374605e+02  2.30802647e+01  3.86808532e+01\n",
            "   7.25786377e+00  4.50649314e+01]\n",
            " [ 9.03410438e+01  2.73429994e+02  2.29154558e+01  3.92906292e+01\n",
            "   6.57603143e+00  5.33680763e+01]\n",
            " [ 8.68244006e+01  3.98091431e+02  2.32154020e+01  3.91788914e+01\n",
            "   7.17356726e+00  4.94501674e+01]\n",
            " [ 8.79899066e+01  3.57950027e+02  2.31476328e+01  3.92386201e+01\n",
            "   7.01633201e+00  5.07221185e+01]\n",
            " [ 8.81366769e+01  3.52805602e+02  2.31366883e+01  3.92444127e+01\n",
            "   6.99342316e+00  5.08843154e+01]\n",
            " [ 8.28946487e+01  5.21569237e+02  2.31242227e+01  3.87481965e+01\n",
            "   7.29146559e+00  4.54297061e+01]]\n"
          ],
          "name": "stdout"
        }
      ]
    },
    {
      "cell_type": "code",
      "metadata": {
        "id": "y0q9jG5aAPJA",
        "colab_type": "code",
        "colab": {
          "base_uri": "https://localhost:8080/",
          "height": 34
        },
        "outputId": "90ead4db-6f44-4f7c-bcf2-bd12d5db6c44"
      },
      "source": [
        "mean_squared_error(Y, y_pred)"
      ],
      "execution_count": null,
      "outputs": [
        {
          "output_type": "execute_result",
          "data": {
            "text/plain": [
              "4562.299204821278"
            ]
          },
          "metadata": {
            "tags": []
          },
          "execution_count": 81
        }
      ]
    },
    {
      "cell_type": "code",
      "metadata": {
        "id": "DjwIgUFg4QOC",
        "colab_type": "code",
        "colab": {
          "base_uri": "https://localhost:8080/",
          "height": 34
        },
        "outputId": "ad70a9ad-ffc9-4580-a8d4-0122f09c45e3"
      },
      "source": [
        "mean_absolute_percentage_error(Y, y_pred)"
      ],
      "execution_count": null,
      "outputs": [
        {
          "output_type": "execute_result",
          "data": {
            "text/plain": [
              "38.69393205130464"
            ]
          },
          "metadata": {
            "tags": []
          },
          "execution_count": 82
        }
      ]
    },
    {
      "cell_type": "code",
      "metadata": {
        "id": "b4UnZLyG4SJ4",
        "colab_type": "code",
        "colab": {
          "base_uri": "https://localhost:8080/",
          "height": 34
        },
        "outputId": "94e72bee-24d2-426c-d9da-d54925972f68"
      },
      "source": [
        "desvio_medio_absoluto(Y, y_pred)"
      ],
      "execution_count": null,
      "outputs": [
        {
          "output_type": "execute_result",
          "data": {
            "text/plain": [
              "140863.3467635758"
            ]
          },
          "metadata": {
            "tags": []
          },
          "execution_count": 83
        }
      ]
    },
    {
      "cell_type": "code",
      "metadata": {
        "id": "WyjCYhyM4UOY",
        "colab_type": "code",
        "colab": {
          "base_uri": "https://localhost:8080/",
          "height": 34
        },
        "outputId": "4fafe36e-3cad-4bbb-e020-02f0f7d34733"
      },
      "source": [
        "bias(Y, y_pred)"
      ],
      "execution_count": null,
      "outputs": [
        {
          "output_type": "execute_result",
          "data": {
            "text/plain": [
              "-5.392166713136248e-10"
            ]
          },
          "metadata": {
            "tags": []
          },
          "execution_count": 84
        }
      ]
    },
    {
      "cell_type": "markdown",
      "metadata": {
        "id": "1ZC3WaC28C5Q",
        "colab_type": "text"
      },
      "source": [
        "#Resultados"
      ]
    },
    {
      "cell_type": "markdown",
      "metadata": {
        "id": "rxPFypI_G3m5",
        "colab_type": "text"
      },
      "source": [
        "###Aqui apresentaremos as diferenças entre os dois modelos"
      ]
    },
    {
      "cell_type": "markdown",
      "metadata": {
        "id": "dOyjb46VFmFy",
        "colab_type": "text"
      },
      "source": [
        "## Comparativo\n",
        "\n",
        "Segue uma analise comparativa entre os dois modelos matematicos "
      ]
    },
    {
      "cell_type": "code",
      "metadata": {
        "id": "CE9sW0W8Dhl1",
        "colab_type": "code",
        "colab": {
          "base_uri": "https://localhost:8080/",
          "height": 119
        },
        "outputId": "aa37c490-36be-42e8-af0a-dac38c9a1b89"
      },
      "source": [
        "print(\"    \", \"RPM\",\" \", \"RLM\")\n",
        "print(\"R^2  \", str(r_sq)[:4], str(reg.score(scaled_inputs ,alvo))[:4])\n",
        "print(\"MSE  \", str(mean_squared_error(Y, y_pred))[:4], str(mean_squared_error(alvo, predito))[:4])\n",
        "print(\"MAPE \", str(mean_absolute_percentage_error(Y, y_pred))[:4], str(desvio_medio_absoluto(alvo, predito))[:4])\n",
        "print(\"MAD \", str(desvio_medio_absoluto(Y, y_pred))[:4], str(desvio_medio_absoluto(alvo, predito))[:4])\n",
        "print(\"Bias\", str(bias(Y, y_pred))[:4], str(bias(alvo, predito))[:4])"
      ],
      "execution_count": null,
      "outputs": [
        {
          "output_type": "stream",
          "text": [
            "     RPM   RLM\n",
            "R^2   0.26 0.85\n",
            "MSE   4562 59.5\n",
            "MAPE  38.6 6001\n",
            "MAD  1408 6001\n",
            "Bias -5.3 1.05\n"
          ],
          "name": "stdout"
        }
      ]
    },
    {
      "cell_type": "markdown",
      "metadata": {
        "id": "8xC-RpixGnCh",
        "colab_type": "text"
      },
      "source": [
        "Assim a modelagem matematica de melhor acuracidade é a REGRESSÃO LINEAR MULTIPLA, pois contempla um R² maior.\n"
      ]
    },
    {
      "cell_type": "markdown",
      "metadata": {
        "id": "VFvlWWp2HMcS",
        "colab_type": "text"
      },
      "source": [
        "#Programa\n"
      ]
    },
    {
      "cell_type": "markdown",
      "metadata": {
        "id": "jUcmRvBHHPrQ",
        "colab_type": "text"
      },
      "source": [
        "Aqui iremos fazer um exemplo dos dados de entrada para o sistema:"
      ]
    },
    {
      "cell_type": "code",
      "metadata": {
        "id": "GUGxAT1OG11o",
        "colab_type": "code",
        "colab": {
          "base_uri": "https://localhost:8080/",
          "height": 51
        },
        "outputId": "ece98ab6-4664-4f18-def9-9b741ce4e591"
      },
      "source": [
        "data_cutivo = 11/01/2020\n",
        "tipo_cutivo = \"arroz ciclo 120d\"\n",
        "previsao_preco_saca = 43\n",
        "ha = 12\n",
        "data_teste = { 'TOTAL_DE_DIAS_SEM_CHUVA' :[78],\n",
        "        'CHUVA_DO_PERIODO': [477],\n",
        "        'TEMPERATURA_MEDIA': [15],\n",
        "        'MAIOR_TEMPERATURA_MAX':  [22],\n",
        "        'MENOR_TEMPERATURA_MIN':  [10],\n",
        "        \"Nacional\": [previsao_preco_saca]\n",
        "        }\n",
        "teste = pd.DataFrame (data_teste, columns =['TOTAL_DE_DIAS_SEM_CHUVA', 'CHUVA_DO_PERIODO', 'TEMPERATURA_MEDIA','MAIOR_TEMPERATURA_MAX', 'MENOR_TEMPERATURA_MIN',  \"Nacional\" ])\n",
        "teste.head()\n",
        "scaled_teste = preprocessing.scale(teste)\n",
        "\n",
        "\n",
        "text_sucesso = (\"Previsão de sucesso da produção em: %s \") % (str(reg.predict(scaled_teste)[0])[:5])\n",
        "previsao = reg.predict(scaled_teste)[0]\n",
        "min_kg = 120\n",
        "max_kg = 150\n",
        "text_valor_gerado = (\"Valor da produção de R$: %s a R$:%s\") % ((ha*min_kg*previsao), (ha*max_kg*previsao))\n",
        "print(text_sucesso)\n",
        "print(text_valor_gerado)"
      ],
      "execution_count": null,
      "outputs": [
        {
          "output_type": "stream",
          "text": [
            "Previsão de sucesso da produção em: 61.69 \n",
            "Valor da produção de R$: 88846.14193548393 a R$:111057.6774193549\n"
          ],
          "name": "stdout"
        }
      ]
    },
    {
      "cell_type": "markdown",
      "metadata": {
        "id": "Dno__tk5MEiW",
        "colab_type": "text"
      },
      "source": [
        " #### (120 a 150kg por ha) "
      ]
    },
    {
      "cell_type": "code",
      "metadata": {
        "id": "f5VBq388MEM-",
        "colab_type": "code",
        "colab": {}
      },
      "source": [
        ""
      ],
      "execution_count": null,
      "outputs": []
    },
    {
      "cell_type": "code",
      "metadata": {
        "id": "N8etIwZtHdJb",
        "colab_type": "code",
        "colab": {}
      },
      "source": [
        ""
      ],
      "execution_count": null,
      "outputs": []
    }
  ]
}