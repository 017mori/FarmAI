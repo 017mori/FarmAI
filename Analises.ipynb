{
  "nbformat": 4,
  "nbformat_minor": 0,
  "metadata": {
    "colab": {
      "name": "Analises.ipynb",
      "provenance": [],
      "collapsed_sections": [],
      "include_colab_link": true
    },
    "kernelspec": {
      "name": "python3",
      "display_name": "Python 3"
    }
  },
  "cells": [
    {
      "cell_type": "markdown",
      "metadata": {
        "id": "view-in-github",
        "colab_type": "text"
      },
      "source": [
        "<a href=\"https://colab.research.google.com/github/017mori/FarmAI/blob/master/Analises.ipynb\" target=\"_parent\"><img src=\"https://colab.research.google.com/assets/colab-badge.svg\" alt=\"Open In Colab\"/></a>"
      ]
    },
    {
      "cell_type": "markdown",
      "metadata": {
        "id": "ULgVtJ9LH_It",
        "colab_type": "text"
      },
      "source": [
        "![](https://i.imgur.com/w870QaH.png)\n",
        "\n",
        "\n",
        "# Índice\n",
        "\n",
        "1) [Base de dados](https://raw.githubusercontent.com/017mori/FarmAI/master/Alegrete-RS.csv)\n",
        "\n",
        "2) Extração dos dados\n",
        "\n",
        "3) Transformação\n",
        "\n",
        "4) Dicionário de dados\n",
        "\n",
        "5) Analise das informcações\n",
        "\n",
        "6) Modelagem Matemática\n",
        "\n",
        "7) Resultados"
      ]
    },
    {
      "cell_type": "markdown",
      "metadata": {
        "id": "fV9ftZTmIwL3",
        "colab_type": "text"
      },
      "source": [
        ""
      ]
    },
    {
      "cell_type": "markdown",
      "metadata": {
        "id": "i4KUm0ZPfCDA",
        "colab_type": "text"
      },
      "source": [
        "\n",
        "### Análise sobre o preço médio de arroz do RS vs Produtividade do arroz em [Alegrete/RS](https://www.google.com.br/maps/place/Alegrete,+RS/@-29.7913804,-55.8162755,13z/data=!3m1!4b1!4m5!3m4!1s0x95aab9c2b437cc67:0xc5b4ec6e9354f7cd!8m2!3d-29.7906476!4d-55.7954085).\n",
        "\n"
      ]
    },
    {
      "cell_type": "code",
      "metadata": {
        "id": "vBdLO9KtekLY",
        "colab_type": "code",
        "colab": {}
      },
      "source": [
        "#Para trabalharmos com os bancos de dados\n",
        "import pandas as pd\n",
        "import numpy as np\n",
        "\n",
        "#Para as regreções\n",
        "from sklearn.linear_model import LinearRegression\n",
        "from sklearn import preprocessing\n",
        "from sklearn.preprocessing import PolynomialFeatures\n",
        "import statsmodels.api as sm\n",
        "from sklearn.metrics import mean_squared_error\n",
        "\n",
        "#Para os gráficos\n",
        "import matplotlib.pyplot as plt\n",
        "from mpl_toolkits.mplot3d import Axes3D\n",
        "import seaborn as sns"
      ],
      "execution_count": 269,
      "outputs": []
    },
    {
      "cell_type": "markdown",
      "metadata": {
        "id": "AnbHQ2IdfBKn",
        "colab_type": "text"
      },
      "source": [
        "#1) Extração dos dados\n",
        "##Importando os bancos de dados:\n",
        "###Sobre o banco de dados\n",
        "*   Contém variáveis de Produtividade de Arroz Arrigado em [Alegrete/RS](https://www.google.com.br/maps/place/Alegrete,+RS/@-29.7913804,-55.8162755,13z/data=!3m1!4b1!4m5!3m4!1s0x95aab9c2b437cc67:0xc5b4ec6e9354f7cd!8m2!3d-29.7906476!4d-55.7954085); variáveis climáticas; e os valores médio de arroz arrigado por saca de 50kg no RS;  \n",
        "*   Uma informação util é que o arroz levou 3 meses para ser colhido, logo, todo o banco de dados é um acompanhamento das variáveis durante o período de Novembro de 2019 á Julho de 2020;\n",
        "*Você pode encontrar os dados no site do [INMET](https://http://sisdagro.inmet.gov.br/sisdagro/app/monitoramento/bhc) e do [AGROLINK](https://www.agrolink.com.br/cotacoes/historico/rs/arroz-irrigado-em-casca-sc-50kg).\n",
        "\n",
        "---\n",
        "\n"
      ]
    },
    {
      "cell_type": "markdown",
      "metadata": {
        "id": "MLRj-pG0IhL5",
        "colab_type": "text"
      },
      "source": [
        "## Dicionário de dados\n",
        "\n",
        "\n",
        "\n",
        "1.   PRODUTIVIDADE_FINAL   = % da produtividade resultada da produção;\n",
        "2.   PERDA_FINAL           = % da perda da produção;\n",
        "3.   CHUVA_DO_PERIODO      = Quantidade de chuvas em mm no periodo;\n",
        "4.   TEMPERATURA_MEDIA     = Temperatura média do período em ºC;\n",
        "5.   MAIOR_TEMPERATURA_MAX = Temperatura máxima do período em ºC;\n",
        "6.   MENOR_TEMPERATURA_MIN = Temperatura miníma do período em ºC;\n",
        "7.   Estadual              = Preço médio da saca de 50kg de arroz arrigado em RS; \t\n",
        "8.   Nacional              = Preço médio da saca de 50kg de arroz arrigado no Brasil.\n",
        "\n",
        " "
      ]
    },
    {
      "cell_type": "code",
      "metadata": {
        "id": "l2VC3hVjfAMf",
        "colab_type": "code",
        "colab": {
          "base_uri": "https://localhost:8080/",
          "height": 215
        },
        "outputId": "edff08d8-976d-4d85-92d2-a9897fff1885"
      },
      "source": [
        "url = \"https://raw.githubusercontent.com/017mori/FarmAI/master/Alegrete-RS.csv\"\n",
        "alegrete_df = pd.read_csv(url, sep =\";\", decimal=\",\")\n",
        "alegrete_df.head()"
      ],
      "execution_count": 270,
      "outputs": [
        {
          "output_type": "execute_result",
          "data": {
            "text/html": [
              "<div>\n",
              "<style scoped>\n",
              "    .dataframe tbody tr th:only-of-type {\n",
              "        vertical-align: middle;\n",
              "    }\n",
              "\n",
              "    .dataframe tbody tr th {\n",
              "        vertical-align: top;\n",
              "    }\n",
              "\n",
              "    .dataframe thead th {\n",
              "        text-align: right;\n",
              "    }\n",
              "</style>\n",
              "<table border=\"1\" class=\"dataframe\">\n",
              "  <thead>\n",
              "    <tr style=\"text-align: right;\">\n",
              "      <th></th>\n",
              "      <th>DATA</th>\n",
              "      <th>PRODUTIVIDADE_FINAL</th>\n",
              "      <th>PERDA_FINAL</th>\n",
              "      <th>TOTAL_DE_DIAS_SEM_CHUVA</th>\n",
              "      <th>CHUVA_DO_PERIODO</th>\n",
              "      <th>TEMPERATURA_MEDIA</th>\n",
              "      <th>MAIOR_TEMPERATURA_MAX</th>\n",
              "      <th>MENOR_TEMPERATURA_MIN</th>\n",
              "      <th>Estadual</th>\n",
              "      <th>Nacional</th>\n",
              "    </tr>\n",
              "  </thead>\n",
              "  <tbody>\n",
              "    <tr>\n",
              "      <th>0</th>\n",
              "      <td>01/01/2018</td>\n",
              "      <td>70.00</td>\n",
              "      <td>29.75</td>\n",
              "      <td>81</td>\n",
              "      <td>483.0</td>\n",
              "      <td>21.10</td>\n",
              "      <td>37.7</td>\n",
              "      <td>7.2</td>\n",
              "      <td>36.63</td>\n",
              "      <td>36.75</td>\n",
              "    </tr>\n",
              "    <tr>\n",
              "      <th>1</th>\n",
              "      <td>02/01/2018</td>\n",
              "      <td>45.03</td>\n",
              "      <td>54.97</td>\n",
              "      <td>78</td>\n",
              "      <td>516.0</td>\n",
              "      <td>22.44</td>\n",
              "      <td>37.7</td>\n",
              "      <td>7.2</td>\n",
              "      <td>35.92</td>\n",
              "      <td>35.14</td>\n",
              "    </tr>\n",
              "    <tr>\n",
              "      <th>2</th>\n",
              "      <td>03/01/2018</td>\n",
              "      <td>28.04</td>\n",
              "      <td>71.96</td>\n",
              "      <td>85</td>\n",
              "      <td>459.6</td>\n",
              "      <td>23.61</td>\n",
              "      <td>37.7</td>\n",
              "      <td>7.3</td>\n",
              "      <td>34.90</td>\n",
              "      <td>34.25</td>\n",
              "    </tr>\n",
              "    <tr>\n",
              "      <th>3</th>\n",
              "      <td>04/01/2018</td>\n",
              "      <td>53.28</td>\n",
              "      <td>46.72</td>\n",
              "      <td>79</td>\n",
              "      <td>564.0</td>\n",
              "      <td>23.94</td>\n",
              "      <td>37.7</td>\n",
              "      <td>10.5</td>\n",
              "      <td>35.32</td>\n",
              "      <td>34.71</td>\n",
              "    </tr>\n",
              "    <tr>\n",
              "      <th>4</th>\n",
              "      <td>05/01/2018</td>\n",
              "      <td>55.17</td>\n",
              "      <td>44.83</td>\n",
              "      <td>78</td>\n",
              "      <td>505.2</td>\n",
              "      <td>23.42</td>\n",
              "      <td>35.4</td>\n",
              "      <td>10.5</td>\n",
              "      <td>35.87</td>\n",
              "      <td>35.17</td>\n",
              "    </tr>\n",
              "  </tbody>\n",
              "</table>\n",
              "</div>"
            ],
            "text/plain": [
              "         DATA  PRODUTIVIDADE_FINAL  ...  Estadual  Nacional\n",
              "0  01/01/2018                70.00  ...     36.63     36.75\n",
              "1  02/01/2018                45.03  ...     35.92     35.14\n",
              "2  03/01/2018                28.04  ...     34.90     34.25\n",
              "3  04/01/2018                53.28  ...     35.32     34.71\n",
              "4  05/01/2018                55.17  ...     35.87     35.17\n",
              "\n",
              "[5 rows x 10 columns]"
            ]
          },
          "metadata": {
            "tags": []
          },
          "execution_count": 270
        }
      ]
    },
    {
      "cell_type": "markdown",
      "metadata": {
        "id": "k-43XrHNjjHq",
        "colab_type": "text"
      },
      "source": [
        "#Análise das variáveis do banco de dados:\n",
        "---"
      ]
    },
    {
      "cell_type": "code",
      "metadata": {
        "id": "H7WInoAQjogW",
        "colab_type": "code",
        "colab": {
          "base_uri": "https://localhost:8080/",
          "height": 302
        },
        "outputId": "b68b8c75-baa3-4cdc-a138-e319fa652e4b"
      },
      "source": [
        "alegrete_df.info()"
      ],
      "execution_count": 271,
      "outputs": [
        {
          "output_type": "stream",
          "text": [
            "<class 'pandas.core.frame.DataFrame'>\n",
            "RangeIndex: 31 entries, 0 to 30\n",
            "Data columns (total 10 columns):\n",
            " #   Column                   Non-Null Count  Dtype  \n",
            "---  ------                   --------------  -----  \n",
            " 0   DATA                     31 non-null     object \n",
            " 1   PRODUTIVIDADE_FINAL      31 non-null     float64\n",
            " 2   PERDA_FINAL              31 non-null     float64\n",
            " 3   TOTAL_DE_DIAS_SEM_CHUVA  31 non-null     int64  \n",
            " 4   CHUVA_DO_PERIODO         31 non-null     float64\n",
            " 5   TEMPERATURA_MEDIA        31 non-null     float64\n",
            " 6   MAIOR_TEMPERATURA_MAX    31 non-null     float64\n",
            " 7   MENOR_TEMPERATURA_MIN    31 non-null     float64\n",
            " 8   Estadual                 31 non-null     float64\n",
            " 9   Nacional                 31 non-null     float64\n",
            "dtypes: float64(8), int64(1), object(1)\n",
            "memory usage: 2.5+ KB\n"
          ],
          "name": "stdout"
        }
      ]
    },
    {
      "cell_type": "markdown",
      "metadata": {
        "id": "9C2ScD23l2WI",
        "colab_type": "text"
      },
      "source": [
        "#Análise descritiva dos dados:\n",
        "* Rodamos o comando [.describe()](https://pandas.pydata.org/pandas-docs/stable/reference/api/pandas.DataFrame.describe.html) comando para demonstrar as medidas mais importantes de todas as variáveis.\n",
        "---"
      ]
    },
    {
      "cell_type": "code",
      "metadata": {
        "id": "TUQWWiJnkmlK",
        "colab_type": "code",
        "colab": {
          "base_uri": "https://localhost:8080/",
          "height": 284
        },
        "outputId": "8ff96c67-6755-4eb7-e385-8cbd4f3ea32d"
      },
      "source": [
        "alegrete_df.describe()"
      ],
      "execution_count": 272,
      "outputs": [
        {
          "output_type": "execute_result",
          "data": {
            "text/html": [
              "<div>\n",
              "<style scoped>\n",
              "    .dataframe tbody tr th:only-of-type {\n",
              "        vertical-align: middle;\n",
              "    }\n",
              "\n",
              "    .dataframe tbody tr th {\n",
              "        vertical-align: top;\n",
              "    }\n",
              "\n",
              "    .dataframe thead th {\n",
              "        text-align: right;\n",
              "    }\n",
              "</style>\n",
              "<table border=\"1\" class=\"dataframe\">\n",
              "  <thead>\n",
              "    <tr style=\"text-align: right;\">\n",
              "      <th></th>\n",
              "      <th>PRODUTIVIDADE_FINAL</th>\n",
              "      <th>PERDA_FINAL</th>\n",
              "      <th>TOTAL_DE_DIAS_SEM_CHUVA</th>\n",
              "      <th>CHUVA_DO_PERIODO</th>\n",
              "      <th>TEMPERATURA_MEDIA</th>\n",
              "      <th>MAIOR_TEMPERATURA_MAX</th>\n",
              "      <th>MENOR_TEMPERATURA_MIN</th>\n",
              "      <th>Estadual</th>\n",
              "      <th>Nacional</th>\n",
              "    </tr>\n",
              "  </thead>\n",
              "  <tbody>\n",
              "    <tr>\n",
              "      <th>count</th>\n",
              "      <td>31.00000</td>\n",
              "      <td>31.000000</td>\n",
              "      <td>31.000000</td>\n",
              "      <td>31.000000</td>\n",
              "      <td>31.000000</td>\n",
              "      <td>31.000000</td>\n",
              "      <td>31.000000</td>\n",
              "      <td>31.000000</td>\n",
              "      <td>31.000000</td>\n",
              "    </tr>\n",
              "    <tr>\n",
              "      <th>mean</th>\n",
              "      <td>61.69871</td>\n",
              "      <td>38.324839</td>\n",
              "      <td>79.096774</td>\n",
              "      <td>536.743548</td>\n",
              "      <td>20.230323</td>\n",
              "      <td>36.319355</td>\n",
              "      <td>3.787097</td>\n",
              "      <td>43.898065</td>\n",
              "      <td>43.249677</td>\n",
              "    </tr>\n",
              "    <tr>\n",
              "      <th>std</th>\n",
              "      <td>20.84381</td>\n",
              "      <td>20.813681</td>\n",
              "      <td>6.415371</td>\n",
              "      <td>196.178171</td>\n",
              "      <td>3.372528</td>\n",
              "      <td>2.875693</td>\n",
              "      <td>4.771355</td>\n",
              "      <td>6.851721</td>\n",
              "      <td>6.403960</td>\n",
              "    </tr>\n",
              "    <tr>\n",
              "      <th>min</th>\n",
              "      <td>23.63000</td>\n",
              "      <td>5.370000</td>\n",
              "      <td>70.000000</td>\n",
              "      <td>221.000000</td>\n",
              "      <td>13.540000</td>\n",
              "      <td>29.300000</td>\n",
              "      <td>-3.200000</td>\n",
              "      <td>34.900000</td>\n",
              "      <td>34.250000</td>\n",
              "    </tr>\n",
              "    <tr>\n",
              "      <th>25%</th>\n",
              "      <td>48.17500</td>\n",
              "      <td>20.120000</td>\n",
              "      <td>75.000000</td>\n",
              "      <td>447.100000</td>\n",
              "      <td>17.935000</td>\n",
              "      <td>34.900000</td>\n",
              "      <td>-0.550000</td>\n",
              "      <td>40.075000</td>\n",
              "      <td>39.825000</td>\n",
              "    </tr>\n",
              "    <tr>\n",
              "      <th>50%</th>\n",
              "      <td>62.15000</td>\n",
              "      <td>37.850000</td>\n",
              "      <td>78.000000</td>\n",
              "      <td>505.200000</td>\n",
              "      <td>21.130000</td>\n",
              "      <td>37.100000</td>\n",
              "      <td>3.300000</td>\n",
              "      <td>43.160000</td>\n",
              "      <td>42.470000</td>\n",
              "    </tr>\n",
              "    <tr>\n",
              "      <th>75%</th>\n",
              "      <td>79.88000</td>\n",
              "      <td>51.825000</td>\n",
              "      <td>80.500000</td>\n",
              "      <td>580.000000</td>\n",
              "      <td>23.280000</td>\n",
              "      <td>37.700000</td>\n",
              "      <td>8.600000</td>\n",
              "      <td>45.725000</td>\n",
              "      <td>45.280000</td>\n",
              "    </tr>\n",
              "    <tr>\n",
              "      <th>max</th>\n",
              "      <td>94.63000</td>\n",
              "      <td>76.370000</td>\n",
              "      <td>95.000000</td>\n",
              "      <td>1037.600000</td>\n",
              "      <td>24.680000</td>\n",
              "      <td>40.000000</td>\n",
              "      <td>10.500000</td>\n",
              "      <td>62.550000</td>\n",
              "      <td>60.310000</td>\n",
              "    </tr>\n",
              "  </tbody>\n",
              "</table>\n",
              "</div>"
            ],
            "text/plain": [
              "       PRODUTIVIDADE_FINAL  PERDA_FINAL  ...   Estadual   Nacional\n",
              "count             31.00000    31.000000  ...  31.000000  31.000000\n",
              "mean              61.69871    38.324839  ...  43.898065  43.249677\n",
              "std               20.84381    20.813681  ...   6.851721   6.403960\n",
              "min               23.63000     5.370000  ...  34.900000  34.250000\n",
              "25%               48.17500    20.120000  ...  40.075000  39.825000\n",
              "50%               62.15000    37.850000  ...  43.160000  42.470000\n",
              "75%               79.88000    51.825000  ...  45.725000  45.280000\n",
              "max               94.63000    76.370000  ...  62.550000  60.310000\n",
              "\n",
              "[8 rows x 9 columns]"
            ]
          },
          "metadata": {
            "tags": []
          },
          "execution_count": 272
        }
      ]
    },
    {
      "cell_type": "markdown",
      "metadata": {
        "id": "lPDCaHbXuoSB",
        "colab_type": "text"
      },
      "source": [
        "#Visualização dos dados:\n",
        "* Para não perdermos tempo, eu vou deixar aqui os gráficos das variáveis em que estamos interessados;\n",
        "---\n",
        "\n"
      ]
    },
    {
      "cell_type": "code",
      "metadata": {
        "id": "wIWasMpolDIL",
        "colab_type": "code",
        "colab": {
          "base_uri": "https://localhost:8080/",
          "height": 297
        },
        "outputId": "ec095ac0-f7a8-4f4e-a1a7-8172a0bb49c1"
      },
      "source": [
        "sns.boxplot(x=alegrete_df[\"PRODUTIVIDADE_FINAL\"])"
      ],
      "execution_count": 273,
      "outputs": [
        {
          "output_type": "execute_result",
          "data": {
            "text/plain": [
              "<matplotlib.axes._subplots.AxesSubplot at 0x7f87d688aa58>"
            ]
          },
          "metadata": {
            "tags": []
          },
          "execution_count": 273
        },
        {
          "output_type": "display_data",
          "data": {
            "image/png": "[encoded data removed]",
            "text/plain": [
              "<Figure size 432x288 with 1 Axes>"
            ]
          },
          "metadata": {
            "tags": [],
            "needs_background": "light"
          }
        }
      ]
    },
    {
      "cell_type": "code",
      "metadata": {
        "id": "zJkT2WqIjpSu",
        "colab_type": "code",
        "colab": {
          "base_uri": "https://localhost:8080/",
          "height": 297
        },
        "outputId": "32e8c305-3100-484d-f34b-99467a15fbb7"
      },
      "source": [
        "sns.boxplot(x=alegrete_df[\"TOTAL_DE_DIAS_SEM_CHUVA\"])"
      ],
      "execution_count": 274,
      "outputs": [
        {
          "output_type": "execute_result",
          "data": {
            "text/plain": [
              "<matplotlib.axes._subplots.AxesSubplot at 0x7f87d6863f28>"
            ]
          },
          "metadata": {
            "tags": []
          },
          "execution_count": 274
        },
        {
          "output_type": "display_data",
          "data": {
            "image/png": "[encoded data removed]",
            "text/plain": [
              "<Figure size 432x288 with 1 Axes>"
            ]
          },
          "metadata": {
            "tags": [],
            "needs_background": "light"
          }
        }
      ]
    },
    {
      "cell_type": "code",
      "metadata": {
        "id": "CC_47v0LjuBQ",
        "colab_type": "code",
        "colab": {
          "base_uri": "https://localhost:8080/",
          "height": 297
        },
        "outputId": "ed449e66-a78e-48d4-e3bb-dd8370ed7aea"
      },
      "source": [
        "sns.boxplot(x=alegrete_df[\"CHUVA_DO_PERIODO\"])"
      ],
      "execution_count": 275,
      "outputs": [
        {
          "output_type": "execute_result",
          "data": {
            "text/plain": [
              "<matplotlib.axes._subplots.AxesSubplot at 0x7f87d6832c18>"
            ]
          },
          "metadata": {
            "tags": []
          },
          "execution_count": 275
        },
        {
          "output_type": "display_data",
          "data": {
            "image/png": "[encoded data removed]",
            "text/plain": [
              "<Figure size 432x288 with 1 Axes>"
            ]
          },
          "metadata": {
            "tags": [],
            "needs_background": "light"
          }
        }
      ]
    },
    {
      "cell_type": "code",
      "metadata": {
        "id": "8fPoHrs6lHoy",
        "colab_type": "code",
        "colab": {
          "base_uri": "https://localhost:8080/",
          "height": 297
        },
        "outputId": "f83df986-0acc-4113-a9e1-4737935f49fe"
      },
      "source": [
        "sns.boxplot(x=alegrete_df[\"TEMPERATURA_MEDIA\"])"
      ],
      "execution_count": 276,
      "outputs": [
        {
          "output_type": "execute_result",
          "data": {
            "text/plain": [
              "<matplotlib.axes._subplots.AxesSubplot at 0x7f87d679e1d0>"
            ]
          },
          "metadata": {
            "tags": []
          },
          "execution_count": 276
        },
        {
          "output_type": "display_data",
          "data": {
            "image/png": "[encoded data removed]",
            "text/plain": [
              "<Figure size 432x288 with 1 Axes>"
            ]
          },
          "metadata": {
            "tags": [],
            "needs_background": "light"
          }
        }
      ]
    },
    {
      "cell_type": "code",
      "metadata": {
        "id": "0es1gJZAlYz9",
        "colab_type": "code",
        "colab": {
          "base_uri": "https://localhost:8080/",
          "height": 297
        },
        "outputId": "bee31c63-1bde-48cd-c647-c063db59212e"
      },
      "source": [
        "sns.boxplot(x=alegrete_df[\"MAIOR_TEMPERATURA_MAX\"])"
      ],
      "execution_count": 277,
      "outputs": [
        {
          "output_type": "execute_result",
          "data": {
            "text/plain": [
              "<matplotlib.axes._subplots.AxesSubplot at 0x7f87d677e780>"
            ]
          },
          "metadata": {
            "tags": []
          },
          "execution_count": 277
        },
        {
          "output_type": "display_data",
          "data": {
            "image/png": "[encoded data removed]",
            "text/plain": [
              "<Figure size 432x288 with 1 Axes>"
            ]
          },
          "metadata": {
            "tags": [],
            "needs_background": "light"
          }
        }
      ]
    },
    {
      "cell_type": "code",
      "metadata": {
        "id": "d6QcRmz_le2p",
        "colab_type": "code",
        "colab": {
          "base_uri": "https://localhost:8080/",
          "height": 297
        },
        "outputId": "bd44de70-6d90-4d27-a607-96d6ae133206"
      },
      "source": [
        "sns.boxplot(x=alegrete_df[\"MENOR_TEMPERATURA_MIN\"])"
      ],
      "execution_count": 278,
      "outputs": [
        {
          "output_type": "execute_result",
          "data": {
            "text/plain": [
              "<matplotlib.axes._subplots.AxesSubplot at 0x7f87d66dbb38>"
            ]
          },
          "metadata": {
            "tags": []
          },
          "execution_count": 278
        },
        {
          "output_type": "display_data",
          "data": {
            "image/png": "[encoded data removed]",
            "text/plain": [
              "<Figure size 432x288 with 1 Axes>"
            ]
          },
          "metadata": {
            "tags": [],
            "needs_background": "light"
          }
        }
      ]
    },
    {
      "cell_type": "code",
      "metadata": {
        "id": "y-eebDzJlmL9",
        "colab_type": "code",
        "colab": {
          "base_uri": "https://localhost:8080/",
          "height": 296
        },
        "outputId": "865dd358-2d66-45df-96bc-aafac9b23ab9"
      },
      "source": [
        "sns.boxplot(x=alegrete_df[\"Estadual\"])"
      ],
      "execution_count": 279,
      "outputs": [
        {
          "output_type": "execute_result",
          "data": {
            "text/plain": [
              "<matplotlib.axes._subplots.AxesSubplot at 0x7f87d66b6240>"
            ]
          },
          "metadata": {
            "tags": []
          },
          "execution_count": 279
        },
        {
          "output_type": "display_data",
          "data": {
            "image/png": "[encoded data removed]",
            "text/plain": [
              "<Figure size 432x288 with 1 Axes>"
            ]
          },
          "metadata": {
            "tags": [],
            "needs_background": "light"
          }
        }
      ]
    },
    {
      "cell_type": "code",
      "metadata": {
        "id": "wf5wTz79ls8n",
        "colab_type": "code",
        "colab": {
          "base_uri": "https://localhost:8080/",
          "height": 296
        },
        "outputId": "24a49d35-5cf9-4709-ba7b-6d8f8f036828"
      },
      "source": [
        "sns.boxplot(x=alegrete_df[\"Nacional\"])"
      ],
      "execution_count": 280,
      "outputs": [
        {
          "output_type": "execute_result",
          "data": {
            "text/plain": [
              "<matplotlib.axes._subplots.AxesSubplot at 0x7f87d661db38>"
            ]
          },
          "metadata": {
            "tags": []
          },
          "execution_count": 280
        },
        {
          "output_type": "display_data",
          "data": {
            "image/png": "[encoded data removed]",
            "text/plain": [
              "<Figure size 432x288 with 1 Axes>"
            ]
          },
          "metadata": {
            "tags": [],
            "needs_background": "light"
          }
        }
      ]
    },
    {
      "cell_type": "markdown",
      "metadata": {
        "id": "Usyl47fbh3b4",
        "colab_type": "text"
      },
      "source": [
        "##Retirando os outliers \n",
        "Em CHUVA DO PERIDO, TOTAL DE DIAS SEM CHUVA, MAIOR TEMPERATURA MAX, Estadual e Nacional foram identificados outliers, assim vamos substituir os outliers pela mediana - o qual é mais indicado para substituição pois é uma medidada invariante."
      ]
    },
    {
      "cell_type": "code",
      "metadata": {
        "id": "UvbrG3jihzSW",
        "colab_type": "code",
        "colab": {}
      },
      "source": [
        "#TOTAL_DE_DIAS_SEM CHUVA\n",
        "median = float(alegrete_df[\"TOTAL_DE_DIAS_SEM_CHUVA\"].median())\n",
        "alegrete_df[\"TOTAL_DE_DIAS_SEM_CHUVA\"] = np.where(alegrete_df[\"TOTAL_DE_DIAS_SEM_CHUVA\"] > median, median, alegrete_df[\"TOTAL_DE_DIAS_SEM_CHUVA\"])\n",
        "#CHUVA_DO_PERIODO\n",
        "median = float(alegrete_df[\"CHUVA_DO_PERIODO\"].median())\n",
        "alegrete_df[\"CHUVA_DO_PERIODO\"] = np.where(alegrete_df[\"CHUVA_DO_PERIODO\"] > median, median, alegrete_df[\"CHUVA_DO_PERIODO\"])\n",
        "#MAIOR_TEMPERATURA_MAX\n",
        "median = float(alegrete_df[\"MAIOR_TEMPERATURA_MAX\"].median())\n",
        "alegrete_df[\"MAIOR_TEMPERATURA_MAX\"] = np.where(alegrete_df[\"MAIOR_TEMPERATURA_MAX\"] > median, median, alegrete_df[\"MAIOR_TEMPERATURA_MAX\"])\n",
        "#Estadual\n",
        "median = float(alegrete_df[\"Estadual\"].median())\n",
        "alegrete_df[\"Estadual\"] = np.where(alegrete_df[\"Estadual\"] > median, median, alegrete_df[\"Estadual\"])\n",
        "#Nacional\n",
        "median = float(alegrete_df[\"Nacional\"].median())\n",
        "alegrete_df[\"Nacional\"] = np.where(alegrete_df[\"Nacional\"] > median, median, alegrete_df[\"Nacional\"])"
      ],
      "execution_count": 281,
      "outputs": []
    },
    {
      "cell_type": "markdown",
      "metadata": {
        "id": "66dea8tmnMuq",
        "colab_type": "text"
      },
      "source": [
        "###Mais um pouco de visualização dos dados"
      ]
    },
    {
      "cell_type": "code",
      "metadata": {
        "id": "0N9KcZi5IikS",
        "colab_type": "code",
        "colab": {
          "base_uri": "https://localhost:8080/",
          "height": 1000
        },
        "outputId": "0803b409-bc0c-496a-b485-9f82dc600bd7"
      },
      "source": [
        "sns.pairplot(alegrete_df[['PRODUTIVIDADE_FINAL', 'TOTAL_DE_DIAS_SEM_CHUVA', 'CHUVA_DO_PERIODO', 'TEMPERATURA_MEDIA', 'MAIOR_TEMPERATURA_MAX', 'MENOR_TEMPERATURA_MIN']])"
      ],
      "execution_count": 282,
      "outputs": [
        {
          "output_type": "execute_result",
          "data": {
            "text/plain": [
              "<seaborn.axisgrid.PairGrid at 0x7f87d6606eb8>"
            ]
          },
          "metadata": {
            "tags": []
          },
          "execution_count": 282
        },
        {
          "output_type": "display_data",
          "data": {
            "image/png": "[encoded data removed]",
            "text/plain": [
              "<Figure size 1080x1080 with 42 Axes>"
            ]
          },
          "metadata": {
            "tags": [],
            "needs_background": "light"
          }
        }
      ]
    },
    {
      "cell_type": "markdown",
      "metadata": {
        "id": "iLdqqMwKnVFE",
        "colab_type": "text"
      },
      "source": [
        "###Matriz de correlação das variáveis"
      ]
    },
    {
      "cell_type": "code",
      "metadata": {
        "id": "5-NZRNd5oETE",
        "colab_type": "code",
        "colab": {
          "base_uri": "https://localhost:8080/",
          "height": 238
        },
        "outputId": "cfd2ec1e-53ea-4377-f628-7bae6a0e2f21"
      },
      "source": [
        "corr = alegrete_df.corr()\n",
        "corr.style.background_gradient(cmap='coolwarm').set_precision(2)"
      ],
      "execution_count": 283,
      "outputs": [
        {
          "output_type": "execute_result",
          "data": {
            "text/html": [
              "<style  type=\"text/css\" >\n",
              "    #T_6dfb02de_d521_11ea_a599_0242ac1c0002row0_col0 {\n",
              "            background-color:  #b40426;\n",
              "            color:  #f1f1f1;\n",
              "        }    #T_6dfb02de_d521_11ea_a599_0242ac1c0002row0_col1 {\n",
              "            background-color:  #3b4cc0;\n",
              "            color:  #f1f1f1;\n",
              "        }    #T_6dfb02de_d521_11ea_a599_0242ac1c0002row0_col2 {\n",
              "            background-color:  #3b4cc0;\n",
              "            color:  #f1f1f1;\n",
              "        }    #T_6dfb02de_d521_11ea_a599_0242ac1c0002row0_col3 {\n",
              "            background-color:  #f5c4ac;\n",
              "            color:  #000000;\n",
              "        }    #T_6dfb02de_d521_11ea_a599_0242ac1c0002row0_col4 {\n",
              "            background-color:  #3b4cc0;\n",
              "            color:  #f1f1f1;\n",
              "        }    #T_6dfb02de_d521_11ea_a599_0242ac1c0002row0_col5 {\n",
              "            background-color:  #3b4cc0;\n",
              "            color:  #f1f1f1;\n",
              "        }    #T_6dfb02de_d521_11ea_a599_0242ac1c0002row0_col6 {\n",
              "            background-color:  #3b4cc0;\n",
              "            color:  #f1f1f1;\n",
              "        }    #T_6dfb02de_d521_11ea_a599_0242ac1c0002row0_col7 {\n",
              "            background-color:  #cedaeb;\n",
              "            color:  #000000;\n",
              "        }    #T_6dfb02de_d521_11ea_a599_0242ac1c0002row0_col8 {\n",
              "            background-color:  #d3dbe7;\n",
              "            color:  #000000;\n",
              "        }    #T_6dfb02de_d521_11ea_a599_0242ac1c0002row1_col0 {\n",
              "            background-color:  #3b4cc0;\n",
              "            color:  #f1f1f1;\n",
              "        }    #T_6dfb02de_d521_11ea_a599_0242ac1c0002row1_col1 {\n",
              "            background-color:  #b40426;\n",
              "            color:  #f1f1f1;\n",
              "        }    #T_6dfb02de_d521_11ea_a599_0242ac1c0002row1_col2 {\n",
              "            background-color:  #f7ac8e;\n",
              "            color:  #000000;\n",
              "        }    #T_6dfb02de_d521_11ea_a599_0242ac1c0002row1_col3 {\n",
              "            background-color:  #3b4cc0;\n",
              "            color:  #f1f1f1;\n",
              "        }    #T_6dfb02de_d521_11ea_a599_0242ac1c0002row1_col4 {\n",
              "            background-color:  #dc5d4a;\n",
              "            color:  #000000;\n",
              "        }    #T_6dfb02de_d521_11ea_a599_0242ac1c0002row1_col5 {\n",
              "            background-color:  #ea7b60;\n",
              "            color:  #000000;\n",
              "        }    #T_6dfb02de_d521_11ea_a599_0242ac1c0002row1_col6 {\n",
              "            background-color:  #ee8468;\n",
              "            color:  #000000;\n",
              "        }    #T_6dfb02de_d521_11ea_a599_0242ac1c0002row1_col7 {\n",
              "            background-color:  #7295f4;\n",
              "            color:  #000000;\n",
              "        }    #T_6dfb02de_d521_11ea_a599_0242ac1c0002row1_col8 {\n",
              "            background-color:  #6e90f2;\n",
              "            color:  #000000;\n",
              "        }    #T_6dfb02de_d521_11ea_a599_0242ac1c0002row2_col0 {\n",
              "            background-color:  #85a8fc;\n",
              "            color:  #000000;\n",
              "        }    #T_6dfb02de_d521_11ea_a599_0242ac1c0002row2_col1 {\n",
              "            background-color:  #f29072;\n",
              "            color:  #000000;\n",
              "        }    #T_6dfb02de_d521_11ea_a599_0242ac1c0002row2_col2 {\n",
              "            background-color:  #b40426;\n",
              "            color:  #f1f1f1;\n",
              "        }    #T_6dfb02de_d521_11ea_a599_0242ac1c0002row2_col3 {\n",
              "            background-color:  #485fd1;\n",
              "            color:  #f1f1f1;\n",
              "        }    #T_6dfb02de_d521_11ea_a599_0242ac1c0002row2_col4 {\n",
              "            background-color:  #f7bca1;\n",
              "            color:  #000000;\n",
              "        }    #T_6dfb02de_d521_11ea_a599_0242ac1c0002row2_col5 {\n",
              "            background-color:  #f2cab5;\n",
              "            color:  #000000;\n",
              "        }    #T_6dfb02de_d521_11ea_a599_0242ac1c0002row2_col6 {\n",
              "            background-color:  #edd2c3;\n",
              "            color:  #000000;\n",
              "        }    #T_6dfb02de_d521_11ea_a599_0242ac1c0002row2_col7 {\n",
              "            background-color:  #4961d2;\n",
              "            color:  #f1f1f1;\n",
              "        }    #T_6dfb02de_d521_11ea_a599_0242ac1c0002row2_col8 {\n",
              "            background-color:  #4961d2;\n",
              "            color:  #f1f1f1;\n",
              "        }    #T_6dfb02de_d521_11ea_a599_0242ac1c0002row3_col0 {\n",
              "            background-color:  #f6a283;\n",
              "            color:  #000000;\n",
              "        }    #T_6dfb02de_d521_11ea_a599_0242ac1c0002row3_col1 {\n",
              "            background-color:  #94b6ff;\n",
              "            color:  #000000;\n",
              "        }    #T_6dfb02de_d521_11ea_a599_0242ac1c0002row3_col2 {\n",
              "            background-color:  #5977e3;\n",
              "            color:  #000000;\n",
              "        }    #T_6dfb02de_d521_11ea_a599_0242ac1c0002row3_col3 {\n",
              "            background-color:  #b40426;\n",
              "            color:  #f1f1f1;\n",
              "        }    #T_6dfb02de_d521_11ea_a599_0242ac1c0002row3_col4 {\n",
              "            background-color:  #bfd3f6;\n",
              "            color:  #000000;\n",
              "        }    #T_6dfb02de_d521_11ea_a599_0242ac1c0002row3_col5 {\n",
              "            background-color:  #c0d4f5;\n",
              "            color:  #000000;\n",
              "        }    #T_6dfb02de_d521_11ea_a599_0242ac1c0002row3_col6 {\n",
              "            background-color:  #ccd9ed;\n",
              "            color:  #000000;\n",
              "        }    #T_6dfb02de_d521_11ea_a599_0242ac1c0002row3_col7 {\n",
              "            background-color:  #4b64d5;\n",
              "            color:  #f1f1f1;\n",
              "        }    #T_6dfb02de_d521_11ea_a599_0242ac1c0002row3_col8 {\n",
              "            background-color:  #4f69d9;\n",
              "            color:  #000000;\n",
              "        }    #T_6dfb02de_d521_11ea_a599_0242ac1c0002row4_col0 {\n",
              "            background-color:  #5a78e4;\n",
              "            color:  #000000;\n",
              "        }    #T_6dfb02de_d521_11ea_a599_0242ac1c0002row4_col1 {\n",
              "            background-color:  #d75445;\n",
              "            color:  #000000;\n",
              "        }    #T_6dfb02de_d521_11ea_a599_0242ac1c0002row4_col2 {\n",
              "            background-color:  #f2cbb7;\n",
              "            color:  #000000;\n",
              "        }    #T_6dfb02de_d521_11ea_a599_0242ac1c0002row4_col3 {\n",
              "            background-color:  #90b2fe;\n",
              "            color:  #000000;\n",
              "        }    #T_6dfb02de_d521_11ea_a599_0242ac1c0002row4_col4 {\n",
              "            background-color:  #b40426;\n",
              "            color:  #f1f1f1;\n",
              "        }    #T_6dfb02de_d521_11ea_a599_0242ac1c0002row4_col5 {\n",
              "            background-color:  #df634e;\n",
              "            color:  #000000;\n",
              "        }    #T_6dfb02de_d521_11ea_a599_0242ac1c0002row4_col6 {\n",
              "            background-color:  #c83836;\n",
              "            color:  #f1f1f1;\n",
              "        }    #T_6dfb02de_d521_11ea_a599_0242ac1c0002row4_col7 {\n",
              "            background-color:  #4055c8;\n",
              "            color:  #f1f1f1;\n",
              "        }    #T_6dfb02de_d521_11ea_a599_0242ac1c0002row4_col8 {\n",
              "            background-color:  #3f53c6;\n",
              "            color:  #f1f1f1;\n",
              "        }    #T_6dfb02de_d521_11ea_a599_0242ac1c0002row5_col0 {\n",
              "            background-color:  #6b8df0;\n",
              "            color:  #000000;\n",
              "        }    #T_6dfb02de_d521_11ea_a599_0242ac1c0002row5_col1 {\n",
              "            background-color:  #e46e56;\n",
              "            color:  #000000;\n",
              "        }    #T_6dfb02de_d521_11ea_a599_0242ac1c0002row5_col2 {\n",
              "            background-color:  #ecd3c5;\n",
              "            color:  #000000;\n",
              "        }    #T_6dfb02de_d521_11ea_a599_0242ac1c0002row5_col3 {\n",
              "            background-color:  #9fbfff;\n",
              "            color:  #000000;\n",
              "        }    #T_6dfb02de_d521_11ea_a599_0242ac1c0002row5_col4 {\n",
              "            background-color:  #dd5f4b;\n",
              "            color:  #000000;\n",
              "        }    #T_6dfb02de_d521_11ea_a599_0242ac1c0002row5_col5 {\n",
              "            background-color:  #b40426;\n",
              "            color:  #f1f1f1;\n",
              "        }    #T_6dfb02de_d521_11ea_a599_0242ac1c0002row5_col6 {\n",
              "            background-color:  #ee8468;\n",
              "            color:  #000000;\n",
              "        }    #T_6dfb02de_d521_11ea_a599_0242ac1c0002row5_col7 {\n",
              "            background-color:  #6687ed;\n",
              "            color:  #000000;\n",
              "        }    #T_6dfb02de_d521_11ea_a599_0242ac1c0002row5_col8 {\n",
              "            background-color:  #6788ee;\n",
              "            color:  #000000;\n",
              "        }    #T_6dfb02de_d521_11ea_a599_0242ac1c0002row6_col0 {\n",
              "            background-color:  #7093f3;\n",
              "            color:  #000000;\n",
              "        }    #T_6dfb02de_d521_11ea_a599_0242ac1c0002row6_col1 {\n",
              "            background-color:  #e8765c;\n",
              "            color:  #000000;\n",
              "        }    #T_6dfb02de_d521_11ea_a599_0242ac1c0002row6_col2 {\n",
              "            background-color:  #e5d8d1;\n",
              "            color:  #000000;\n",
              "        }    #T_6dfb02de_d521_11ea_a599_0242ac1c0002row6_col3 {\n",
              "            background-color:  #b3cdfb;\n",
              "            color:  #000000;\n",
              "        }    #T_6dfb02de_d521_11ea_a599_0242ac1c0002row6_col4 {\n",
              "            background-color:  #c73635;\n",
              "            color:  #f1f1f1;\n",
              "        }    #T_6dfb02de_d521_11ea_a599_0242ac1c0002row6_col5 {\n",
              "            background-color:  #ed8366;\n",
              "            color:  #000000;\n",
              "        }    #T_6dfb02de_d521_11ea_a599_0242ac1c0002row6_col6 {\n",
              "            background-color:  #b40426;\n",
              "            color:  #f1f1f1;\n",
              "        }    #T_6dfb02de_d521_11ea_a599_0242ac1c0002row6_col7 {\n",
              "            background-color:  #3b4cc0;\n",
              "            color:  #f1f1f1;\n",
              "        }    #T_6dfb02de_d521_11ea_a599_0242ac1c0002row6_col8 {\n",
              "            background-color:  #3b4cc0;\n",
              "            color:  #f1f1f1;\n",
              "        }    #T_6dfb02de_d521_11ea_a599_0242ac1c0002row7_col0 {\n",
              "            background-color:  #f2cbb7;\n",
              "            color:  #000000;\n",
              "        }    #T_6dfb02de_d521_11ea_a599_0242ac1c0002row7_col1 {\n",
              "            background-color:  #c0d4f5;\n",
              "            color:  #000000;\n",
              "        }    #T_6dfb02de_d521_11ea_a599_0242ac1c0002row7_col2 {\n",
              "            background-color:  #5a78e4;\n",
              "            color:  #000000;\n",
              "        }    #T_6dfb02de_d521_11ea_a599_0242ac1c0002row7_col3 {\n",
              "            background-color:  #4c66d6;\n",
              "            color:  #000000;\n",
              "        }    #T_6dfb02de_d521_11ea_a599_0242ac1c0002row7_col4 {\n",
              "            background-color:  #7da0f9;\n",
              "            color:  #000000;\n",
              "        }    #T_6dfb02de_d521_11ea_a599_0242ac1c0002row7_col5 {\n",
              "            background-color:  #90b2fe;\n",
              "            color:  #000000;\n",
              "        }    #T_6dfb02de_d521_11ea_a599_0242ac1c0002row7_col6 {\n",
              "            background-color:  #6282ea;\n",
              "            color:  #000000;\n",
              "        }    #T_6dfb02de_d521_11ea_a599_0242ac1c0002row7_col7 {\n",
              "            background-color:  #b40426;\n",
              "            color:  #f1f1f1;\n",
              "        }    #T_6dfb02de_d521_11ea_a599_0242ac1c0002row7_col8 {\n",
              "            background-color:  #b40426;\n",
              "            color:  #f1f1f1;\n",
              "        }    #T_6dfb02de_d521_11ea_a599_0242ac1c0002row8_col0 {\n",
              "            background-color:  #f3c8b2;\n",
              "            color:  #000000;\n",
              "        }    #T_6dfb02de_d521_11ea_a599_0242ac1c0002row8_col1 {\n",
              "            background-color:  #bcd2f7;\n",
              "            color:  #000000;\n",
              "        }    #T_6dfb02de_d521_11ea_a599_0242ac1c0002row8_col2 {\n",
              "            background-color:  #5a78e4;\n",
              "            color:  #000000;\n",
              "        }    #T_6dfb02de_d521_11ea_a599_0242ac1c0002row8_col3 {\n",
              "            background-color:  #4f69d9;\n",
              "            color:  #000000;\n",
              "        }    #T_6dfb02de_d521_11ea_a599_0242ac1c0002row8_col4 {\n",
              "            background-color:  #7b9ff9;\n",
              "            color:  #000000;\n",
              "        }    #T_6dfb02de_d521_11ea_a599_0242ac1c0002row8_col5 {\n",
              "            background-color:  #92b4fe;\n",
              "            color:  #000000;\n",
              "        }    #T_6dfb02de_d521_11ea_a599_0242ac1c0002row8_col6 {\n",
              "            background-color:  #6282ea;\n",
              "            color:  #000000;\n",
              "        }    #T_6dfb02de_d521_11ea_a599_0242ac1c0002row8_col7 {\n",
              "            background-color:  #b40426;\n",
              "            color:  #f1f1f1;\n",
              "        }    #T_6dfb02de_d521_11ea_a599_0242ac1c0002row8_col8 {\n",
              "            background-color:  #b40426;\n",
              "            color:  #f1f1f1;\n",
              "        }</style><table id=\"T_6dfb02de_d521_11ea_a599_0242ac1c0002\" ><thead>    <tr>        <th class=\"blank level0\" ></th>        <th class=\"col_heading level0 col0\" >PRODUTIVIDADE_FINAL</th>        <th class=\"col_heading level0 col1\" >PERDA_FINAL</th>        <th class=\"col_heading level0 col2\" >TOTAL_DE_DIAS_SEM_CHUVA</th>        <th class=\"col_heading level0 col3\" >CHUVA_DO_PERIODO</th>        <th class=\"col_heading level0 col4\" >TEMPERATURA_MEDIA</th>        <th class=\"col_heading level0 col5\" >MAIOR_TEMPERATURA_MAX</th>        <th class=\"col_heading level0 col6\" >MENOR_TEMPERATURA_MIN</th>        <th class=\"col_heading level0 col7\" >Estadual</th>        <th class=\"col_heading level0 col8\" >Nacional</th>    </tr></thead><tbody>\n",
              "                <tr>\n",
              "                        <th id=\"T_6dfb02de_d521_11ea_a599_0242ac1c0002level0_row0\" class=\"row_heading level0 row0\" >PRODUTIVIDADE_FINAL</th>\n",
              "                        <td id=\"T_6dfb02de_d521_11ea_a599_0242ac1c0002row0_col0\" class=\"data row0 col0\" >1.00</td>\n",
              "                        <td id=\"T_6dfb02de_d521_11ea_a599_0242ac1c0002row0_col1\" class=\"data row0 col1\" >-1.00</td>\n",
              "                        <td id=\"T_6dfb02de_d521_11ea_a599_0242ac1c0002row0_col2\" class=\"data row0 col2\" >-0.54</td>\n",
              "                        <td id=\"T_6dfb02de_d521_11ea_a599_0242ac1c0002row0_col3\" class=\"data row0 col3\" >0.46</td>\n",
              "                        <td id=\"T_6dfb02de_d521_11ea_a599_0242ac1c0002row0_col4\" class=\"data row0 col4\" >-0.79</td>\n",
              "                        <td id=\"T_6dfb02de_d521_11ea_a599_0242ac1c0002row0_col5\" class=\"data row0 col5\" >-0.69</td>\n",
              "                        <td id=\"T_6dfb02de_d521_11ea_a599_0242ac1c0002row0_col6\" class=\"data row0 col6\" >-0.66</td>\n",
              "                        <td id=\"T_6dfb02de_d521_11ea_a599_0242ac1c0002row0_col7\" class=\"data row0 col7\" >0.20</td>\n",
              "                        <td id=\"T_6dfb02de_d521_11ea_a599_0242ac1c0002row0_col8\" class=\"data row0 col8\" >0.22</td>\n",
              "            </tr>\n",
              "            <tr>\n",
              "                        <th id=\"T_6dfb02de_d521_11ea_a599_0242ac1c0002level0_row1\" class=\"row_heading level0 row1\" >PERDA_FINAL</th>\n",
              "                        <td id=\"T_6dfb02de_d521_11ea_a599_0242ac1c0002row1_col0\" class=\"data row1 col0\" >-1.00</td>\n",
              "                        <td id=\"T_6dfb02de_d521_11ea_a599_0242ac1c0002row1_col1\" class=\"data row1 col1\" >1.00</td>\n",
              "                        <td id=\"T_6dfb02de_d521_11ea_a599_0242ac1c0002row1_col2\" class=\"data row1 col2\" >0.54</td>\n",
              "                        <td id=\"T_6dfb02de_d521_11ea_a599_0242ac1c0002row1_col3\" class=\"data row1 col3\" >-0.46</td>\n",
              "                        <td id=\"T_6dfb02de_d521_11ea_a599_0242ac1c0002row1_col4\" class=\"data row1 col4\" >0.79</td>\n",
              "                        <td id=\"T_6dfb02de_d521_11ea_a599_0242ac1c0002row1_col5\" class=\"data row1 col5\" >0.69</td>\n",
              "                        <td id=\"T_6dfb02de_d521_11ea_a599_0242ac1c0002row1_col6\" class=\"data row1 col6\" >0.66</td>\n",
              "                        <td id=\"T_6dfb02de_d521_11ea_a599_0242ac1c0002row1_col7\" class=\"data row1 col7\" >-0.20</td>\n",
              "                        <td id=\"T_6dfb02de_d521_11ea_a599_0242ac1c0002row1_col8\" class=\"data row1 col8\" >-0.22</td>\n",
              "            </tr>\n",
              "            <tr>\n",
              "                        <th id=\"T_6dfb02de_d521_11ea_a599_0242ac1c0002level0_row2\" class=\"row_heading level0 row2\" >TOTAL_DE_DIAS_SEM_CHUVA</th>\n",
              "                        <td id=\"T_6dfb02de_d521_11ea_a599_0242ac1c0002row2_col0\" class=\"data row2 col0\" >-0.54</td>\n",
              "                        <td id=\"T_6dfb02de_d521_11ea_a599_0242ac1c0002row2_col1\" class=\"data row2 col1\" >0.54</td>\n",
              "                        <td id=\"T_6dfb02de_d521_11ea_a599_0242ac1c0002row2_col2\" class=\"data row2 col2\" >1.00</td>\n",
              "                        <td id=\"T_6dfb02de_d521_11ea_a599_0242ac1c0002row2_col3\" class=\"data row2 col3\" >-0.39</td>\n",
              "                        <td id=\"T_6dfb02de_d521_11ea_a599_0242ac1c0002row2_col4\" class=\"data row2 col4\" >0.38</td>\n",
              "                        <td id=\"T_6dfb02de_d521_11ea_a599_0242ac1c0002row2_col5\" class=\"data row2 col5\" >0.33</td>\n",
              "                        <td id=\"T_6dfb02de_d521_11ea_a599_0242ac1c0002row2_col6\" class=\"data row2 col6\" >0.28</td>\n",
              "                        <td id=\"T_6dfb02de_d521_11ea_a599_0242ac1c0002row2_col7\" class=\"data row2 col7\" >-0.38</td>\n",
              "                        <td id=\"T_6dfb02de_d521_11ea_a599_0242ac1c0002row2_col8\" class=\"data row2 col8\" >-0.38</td>\n",
              "            </tr>\n",
              "            <tr>\n",
              "                        <th id=\"T_6dfb02de_d521_11ea_a599_0242ac1c0002level0_row3\" class=\"row_heading level0 row3\" >CHUVA_DO_PERIODO</th>\n",
              "                        <td id=\"T_6dfb02de_d521_11ea_a599_0242ac1c0002row3_col0\" class=\"data row3 col0\" >0.46</td>\n",
              "                        <td id=\"T_6dfb02de_d521_11ea_a599_0242ac1c0002row3_col1\" class=\"data row3 col1\" >-0.46</td>\n",
              "                        <td id=\"T_6dfb02de_d521_11ea_a599_0242ac1c0002row3_col2\" class=\"data row3 col2\" >-0.39</td>\n",
              "                        <td id=\"T_6dfb02de_d521_11ea_a599_0242ac1c0002row3_col3\" class=\"data row3 col3\" >1.00</td>\n",
              "                        <td id=\"T_6dfb02de_d521_11ea_a599_0242ac1c0002row3_col4\" class=\"data row3 col4\" >-0.08</td>\n",
              "                        <td id=\"T_6dfb02de_d521_11ea_a599_0242ac1c0002row3_col5\" class=\"data row3 col5\" >-0.01</td>\n",
              "                        <td id=\"T_6dfb02de_d521_11ea_a599_0242ac1c0002row3_col6\" class=\"data row3 col6\" >0.07</td>\n",
              "                        <td id=\"T_6dfb02de_d521_11ea_a599_0242ac1c0002row3_col7\" class=\"data row3 col7\" >-0.37</td>\n",
              "                        <td id=\"T_6dfb02de_d521_11ea_a599_0242ac1c0002row3_col8\" class=\"data row3 col8\" >-0.35</td>\n",
              "            </tr>\n",
              "            <tr>\n",
              "                        <th id=\"T_6dfb02de_d521_11ea_a599_0242ac1c0002level0_row4\" class=\"row_heading level0 row4\" >TEMPERATURA_MEDIA</th>\n",
              "                        <td id=\"T_6dfb02de_d521_11ea_a599_0242ac1c0002row4_col0\" class=\"data row4 col0\" >-0.79</td>\n",
              "                        <td id=\"T_6dfb02de_d521_11ea_a599_0242ac1c0002row4_col1\" class=\"data row4 col1\" >0.79</td>\n",
              "                        <td id=\"T_6dfb02de_d521_11ea_a599_0242ac1c0002row4_col2\" class=\"data row4 col2\" >0.38</td>\n",
              "                        <td id=\"T_6dfb02de_d521_11ea_a599_0242ac1c0002row4_col3\" class=\"data row4 col3\" >-0.08</td>\n",
              "                        <td id=\"T_6dfb02de_d521_11ea_a599_0242ac1c0002row4_col4\" class=\"data row4 col4\" >1.00</td>\n",
              "                        <td id=\"T_6dfb02de_d521_11ea_a599_0242ac1c0002row4_col5\" class=\"data row4 col5\" >0.78</td>\n",
              "                        <td id=\"T_6dfb02de_d521_11ea_a599_0242ac1c0002row4_col6\" class=\"data row4 col6\" >0.91</td>\n",
              "                        <td id=\"T_6dfb02de_d521_11ea_a599_0242ac1c0002row4_col7\" class=\"data row4 col7\" >-0.42</td>\n",
              "                        <td id=\"T_6dfb02de_d521_11ea_a599_0242ac1c0002row4_col8\" class=\"data row4 col8\" >-0.43</td>\n",
              "            </tr>\n",
              "            <tr>\n",
              "                        <th id=\"T_6dfb02de_d521_11ea_a599_0242ac1c0002level0_row5\" class=\"row_heading level0 row5\" >MAIOR_TEMPERATURA_MAX</th>\n",
              "                        <td id=\"T_6dfb02de_d521_11ea_a599_0242ac1c0002row5_col0\" class=\"data row5 col0\" >-0.69</td>\n",
              "                        <td id=\"T_6dfb02de_d521_11ea_a599_0242ac1c0002row5_col1\" class=\"data row5 col1\" >0.69</td>\n",
              "                        <td id=\"T_6dfb02de_d521_11ea_a599_0242ac1c0002row5_col2\" class=\"data row5 col2\" >0.33</td>\n",
              "                        <td id=\"T_6dfb02de_d521_11ea_a599_0242ac1c0002row5_col3\" class=\"data row5 col3\" >-0.01</td>\n",
              "                        <td id=\"T_6dfb02de_d521_11ea_a599_0242ac1c0002row5_col4\" class=\"data row5 col4\" >0.78</td>\n",
              "                        <td id=\"T_6dfb02de_d521_11ea_a599_0242ac1c0002row5_col5\" class=\"data row5 col5\" >1.00</td>\n",
              "                        <td id=\"T_6dfb02de_d521_11ea_a599_0242ac1c0002row5_col6\" class=\"data row5 col6\" >0.66</td>\n",
              "                        <td id=\"T_6dfb02de_d521_11ea_a599_0242ac1c0002row5_col7\" class=\"data row5 col7\" >-0.25</td>\n",
              "                        <td id=\"T_6dfb02de_d521_11ea_a599_0242ac1c0002row5_col8\" class=\"data row5 col8\" >-0.25</td>\n",
              "            </tr>\n",
              "            <tr>\n",
              "                        <th id=\"T_6dfb02de_d521_11ea_a599_0242ac1c0002level0_row6\" class=\"row_heading level0 row6\" >MENOR_TEMPERATURA_MIN</th>\n",
              "                        <td id=\"T_6dfb02de_d521_11ea_a599_0242ac1c0002row6_col0\" class=\"data row6 col0\" >-0.66</td>\n",
              "                        <td id=\"T_6dfb02de_d521_11ea_a599_0242ac1c0002row6_col1\" class=\"data row6 col1\" >0.66</td>\n",
              "                        <td id=\"T_6dfb02de_d521_11ea_a599_0242ac1c0002row6_col2\" class=\"data row6 col2\" >0.28</td>\n",
              "                        <td id=\"T_6dfb02de_d521_11ea_a599_0242ac1c0002row6_col3\" class=\"data row6 col3\" >0.07</td>\n",
              "                        <td id=\"T_6dfb02de_d521_11ea_a599_0242ac1c0002row6_col4\" class=\"data row6 col4\" >0.91</td>\n",
              "                        <td id=\"T_6dfb02de_d521_11ea_a599_0242ac1c0002row6_col5\" class=\"data row6 col5\" >0.66</td>\n",
              "                        <td id=\"T_6dfb02de_d521_11ea_a599_0242ac1c0002row6_col6\" class=\"data row6 col6\" >1.00</td>\n",
              "                        <td id=\"T_6dfb02de_d521_11ea_a599_0242ac1c0002row6_col7\" class=\"data row6 col7\" >-0.45</td>\n",
              "                        <td id=\"T_6dfb02de_d521_11ea_a599_0242ac1c0002row6_col8\" class=\"data row6 col8\" >-0.45</td>\n",
              "            </tr>\n",
              "            <tr>\n",
              "                        <th id=\"T_6dfb02de_d521_11ea_a599_0242ac1c0002level0_row7\" class=\"row_heading level0 row7\" >Estadual</th>\n",
              "                        <td id=\"T_6dfb02de_d521_11ea_a599_0242ac1c0002row7_col0\" class=\"data row7 col0\" >0.20</td>\n",
              "                        <td id=\"T_6dfb02de_d521_11ea_a599_0242ac1c0002row7_col1\" class=\"data row7 col1\" >-0.20</td>\n",
              "                        <td id=\"T_6dfb02de_d521_11ea_a599_0242ac1c0002row7_col2\" class=\"data row7 col2\" >-0.38</td>\n",
              "                        <td id=\"T_6dfb02de_d521_11ea_a599_0242ac1c0002row7_col3\" class=\"data row7 col3\" >-0.37</td>\n",
              "                        <td id=\"T_6dfb02de_d521_11ea_a599_0242ac1c0002row7_col4\" class=\"data row7 col4\" >-0.42</td>\n",
              "                        <td id=\"T_6dfb02de_d521_11ea_a599_0242ac1c0002row7_col5\" class=\"data row7 col5\" >-0.25</td>\n",
              "                        <td id=\"T_6dfb02de_d521_11ea_a599_0242ac1c0002row7_col6\" class=\"data row7 col6\" >-0.45</td>\n",
              "                        <td id=\"T_6dfb02de_d521_11ea_a599_0242ac1c0002row7_col7\" class=\"data row7 col7\" >1.00</td>\n",
              "                        <td id=\"T_6dfb02de_d521_11ea_a599_0242ac1c0002row7_col8\" class=\"data row7 col8\" >1.00</td>\n",
              "            </tr>\n",
              "            <tr>\n",
              "                        <th id=\"T_6dfb02de_d521_11ea_a599_0242ac1c0002level0_row8\" class=\"row_heading level0 row8\" >Nacional</th>\n",
              "                        <td id=\"T_6dfb02de_d521_11ea_a599_0242ac1c0002row8_col0\" class=\"data row8 col0\" >0.22</td>\n",
              "                        <td id=\"T_6dfb02de_d521_11ea_a599_0242ac1c0002row8_col1\" class=\"data row8 col1\" >-0.22</td>\n",
              "                        <td id=\"T_6dfb02de_d521_11ea_a599_0242ac1c0002row8_col2\" class=\"data row8 col2\" >-0.38</td>\n",
              "                        <td id=\"T_6dfb02de_d521_11ea_a599_0242ac1c0002row8_col3\" class=\"data row8 col3\" >-0.35</td>\n",
              "                        <td id=\"T_6dfb02de_d521_11ea_a599_0242ac1c0002row8_col4\" class=\"data row8 col4\" >-0.43</td>\n",
              "                        <td id=\"T_6dfb02de_d521_11ea_a599_0242ac1c0002row8_col5\" class=\"data row8 col5\" >-0.25</td>\n",
              "                        <td id=\"T_6dfb02de_d521_11ea_a599_0242ac1c0002row8_col6\" class=\"data row8 col6\" >-0.45</td>\n",
              "                        <td id=\"T_6dfb02de_d521_11ea_a599_0242ac1c0002row8_col7\" class=\"data row8 col7\" >1.00</td>\n",
              "                        <td id=\"T_6dfb02de_d521_11ea_a599_0242ac1c0002row8_col8\" class=\"data row8 col8\" >1.00</td>\n",
              "            </tr>\n",
              "    </tbody></table>"
            ],
            "text/plain": [
              "<pandas.io.formats.style.Styler at 0x7f87d661d710>"
            ]
          },
          "metadata": {
            "tags": []
          },
          "execution_count": 283
        }
      ]
    },
    {
      "cell_type": "markdown",
      "metadata": {
        "id": "JNX3e0ut3byF",
        "colab_type": "text"
      },
      "source": [
        "#Regressão Linear:\n",
        "* Aqui podemos ver todas as relações em que o nÍvel de produção tem em relação as outras variáveis.\n",
        "---"
      ]
    },
    {
      "cell_type": "code",
      "metadata": {
        "id": "7z4Kzt0V3m9c",
        "colab_type": "code",
        "colab": {
          "base_uri": "https://localhost:8080/",
          "height": 1000
        },
        "outputId": "d40549c7-9cc9-4ea3-fd41-00c8a82f0d95"
      },
      "source": [
        "#Para cada variável estamos relacionando com o nível de produtividade\n",
        "for i in range(8):\n",
        "  print(\"\")\n",
        "  print(\"\")\n",
        "  print(i)\n",
        "  x = alegrete_df.iloc[:,1]\n",
        "  y = alegrete_df.iloc[:,i+2]\n",
        "\n",
        "  x = x[:, np.newaxis]\n",
        "  y = y[:, np.newaxis]\n",
        "\n",
        "  model = LinearRegression()\n",
        "  model.fit(x, y)\n",
        "  y_pred = model.predict(x)\n",
        "  r_sq = model.score(x, y)\n",
        "\n",
        "  plt.scatter(x, y)\n",
        "  plt.plot(x, y_pred, color='r')\n",
        "  plt.show()\n",
        "  print('coefficient of determination:', r_sq)\n",
        "  print('intercept:', model.intercept_)\n",
        "  print('slope:', model.coef_)"
      ],
      "execution_count": 284,
      "outputs": [
        {
          "output_type": "stream",
          "text": [
            "\n",
            "\n",
            "0\n"
          ],
          "name": "stdout"
        },
        {
          "output_type": "display_data",
          "data": {
            "image/png": "[encoded data removed]",
            "text/plain": [
              "<Figure size 432x288 with 1 Axes>"
            ]
          },
          "metadata": {
            "tags": [],
            "needs_background": "light"
          }
        },
        {
          "output_type": "stream",
          "text": [
            "coefficient of determination: 0.9999248211905215\n",
            "intercept: [99.93205005]\n",
            "slope: [[-0.99851701]]\n",
            "\n",
            "\n",
            "1\n"
          ],
          "name": "stdout"
        },
        {
          "output_type": "display_data",
          "data": {
            "image/png": "[encoded data removed]",
            "text/plain": [
              "<Figure size 432x288 with 1 Axes>"
            ]
          },
          "metadata": {
            "tags": [],
            "needs_background": "light"
          }
        },
        {
          "output_type": "stream",
          "text": [
            "coefficient of determination: 0.2942829679425635\n",
            "intercept: [80.03989328]\n",
            "slope: [[-0.06024944]]\n",
            "\n",
            "\n",
            "2\n"
          ],
          "name": "stdout"
        },
        {
          "output_type": "display_data",
          "data": {
            "image/png": "[encoded data removed]",
            "text/plain": [
              "<Figure size 432x288 with 1 Axes>"
            ]
          },
          "metadata": {
            "tags": [],
            "needs_background": "light"
          }
        },
        {
          "output_type": "stream",
          "text": [
            "coefficient of determination: 0.20732568289845998\n",
            "intercept: [336.41833978]\n",
            "slope: [[1.88851205]]\n",
            "\n",
            "\n",
            "3\n"
          ],
          "name": "stdout"
        },
        {
          "output_type": "display_data",
          "data": {
            "image/png": "[encoded data removed]",
            "text/plain": [
              "<Figure size 432x288 with 1 Axes>"
            ]
          },
          "metadata": {
            "tags": [],
            "needs_background": "light"
          }
        },
        {
          "output_type": "stream",
          "text": [
            "coefficient of determination: 0.6232647287349642\n",
            "intercept: [28.11149419]\n",
            "slope: [[-0.12773641]]\n",
            "\n",
            "\n",
            "4\n"
          ],
          "name": "stdout"
        },
        {
          "output_type": "display_data",
          "data": {
            "image/png": "[encoded data removed]",
            "text/plain": [
              "<Figure size 432x288 with 1 Axes>"
            ]
          },
          "metadata": {
            "tags": [],
            "needs_background": "light"
          }
        },
        {
          "output_type": "stream",
          "text": [
            "coefficient of determination: 0.48161558313186814\n",
            "intercept: [40.23975668]\n",
            "slope: [[-0.07462511]]\n",
            "\n",
            "\n",
            "5\n"
          ],
          "name": "stdout"
        },
        {
          "output_type": "display_data",
          "data": {
            "image/png": "[encoded data removed]",
            "text/plain": [
              "<Figure size 432x288 with 1 Axes>"
            ]
          },
          "metadata": {
            "tags": [],
            "needs_background": "light"
          }
        },
        {
          "output_type": "stream",
          "text": [
            "coefficient of determination: 0.44072397705261196\n",
            "intercept: [13.16323595]\n",
            "slope: [[-0.15196654]]\n",
            "\n",
            "\n",
            "6\n"
          ],
          "name": "stdout"
        },
        {
          "output_type": "display_data",
          "data": {
            "image/png": "[encoded data removed]",
            "text/plain": [
              "<Figure size 432x288 with 1 Axes>"
            ]
          },
          "metadata": {
            "tags": [],
            "needs_background": "light"
          }
        },
        {
          "output_type": "stream",
          "text": [
            "coefficient of determination: 0.03991362892042227\n",
            "intercept: [39.43752905]\n",
            "slope: [[0.02722732]]\n",
            "\n",
            "\n",
            "7\n"
          ],
          "name": "stdout"
        },
        {
          "output_type": "display_data",
          "data": {
            "image/png": "[encoded data removed]",
            "text/plain": [
              "<Figure size 432x288 with 1 Axes>"
            ]
          },
          "metadata": {
            "tags": [],
            "needs_background": "light"
          }
        },
        {
          "output_type": "stream",
          "text": [
            "coefficient of determination: 0.049008517225658466\n",
            "intercept: [38.75253123]\n",
            "slope: [[0.02940488]]\n"
          ],
          "name": "stdout"
        }
      ]
    },
    {
      "cell_type": "markdown",
      "metadata": {
        "id": "bOLqu_72rPqy",
        "colab_type": "text"
      },
      "source": [
        "###OBS.: Como observamos na matriz de correlação as variaveis que detem a mair relação entre a variável Produção Final são TOTAL_DE_DIAS_SEM_CHUVA, TEMPERATURA_MEDIA, MAIOR_TEMPERATURA_MAX e MENOR_TEMPERATURA_MIN com  -0.54, -0.79, -0.69 e -0.66 respectivamente.\n",
        "---"
      ]
    },
    {
      "cell_type": "markdown",
      "metadata": {
        "id": "g5Dd8212-4Yv",
        "colab_type": "text"
      },
      "source": [
        "\n",
        "#Regreção Linear Multipla \n",
        "* Sabendo que a maioria das variáveis tem alguma relação com o nível de produtividade, então resolvemos implementar a RLM para demonstrar que a maioria das variáveis estão relacionadas com o nível de produtividade.\n",
        "---"
      ]
    },
    {
      "cell_type": "code",
      "metadata": {
        "id": "ZiidVawstshR",
        "colab_type": "code",
        "colab": {}
      },
      "source": [
        "#Definindo o data set\n",
        "alegrete_df_clean = alegrete_df\n",
        "alvo = alegrete_df_clean[\"PRODUTIVIDADE_FINAL\"]\n",
        "inputs = alegrete_df_clean.drop([\"PRODUTIVIDADE_FINAL\", \"PERDA_FINAL\", \"DATA\", \"Nacional\"] , axis=1)"
      ],
      "execution_count": 288,
      "outputs": []
    },
    {
      "cell_type": "code",
      "metadata": {
        "id": "Vb_I9_QFuD9-",
        "colab_type": "code",
        "colab": {}
      },
      "source": [
        "#Normalizando os dados\n",
        "from sklearn.preprocessing import StandardScaler\n",
        "scaler = StandardScaler()\n",
        "scaler.fit(inputs)\n",
        "inputs_scaled = scaler.transform(inputs)\n",
        "scaled_inputs = preprocessing.scale(inputs)"
      ],
      "execution_count": 289,
      "outputs": []
    },
    {
      "cell_type": "code",
      "metadata": {
        "id": "PXMUYWbMuj6X",
        "colab_type": "code",
        "colab": {
          "base_uri": "https://localhost:8080/",
          "height": 34
        },
        "outputId": "8e5fc365-26b0-4c78-f8db-ea84375f4a26"
      },
      "source": [
        "#Gerando o modelo de regressão e preenchendo com as variáveis\n",
        "reg = LinearRegression()\n",
        "reg.fit(scaled_inputs, alvo) "
      ],
      "execution_count": 292,
      "outputs": [
        {
          "output_type": "execute_result",
          "data": {
            "text/plain": [
              "LinearRegression(copy_X=True, fit_intercept=True, n_jobs=None, normalize=False)"
            ]
          },
          "metadata": {
            "tags": []
          },
          "execution_count": 292
        }
      ]
    },
    {
      "cell_type": "code",
      "metadata": {
        "id": "cG19iaaSudEW",
        "colab_type": "code",
        "colab": {}
      },
      "source": [
        "y_hat = reg.predict(inputs)"
      ],
      "execution_count": 293,
      "outputs": []
    },
    {
      "cell_type": "code",
      "metadata": {
        "id": "a14gzp3Kuo2O",
        "colab_type": "code",
        "colab": {
          "base_uri": "https://localhost:8080/",
          "height": 317
        },
        "outputId": "f377e990-1107-49fb-8880-9f2e6d5dd4f1"
      },
      "source": [
        "sns.distplot(alvo - y_hat)\n",
        "plt.title(\"Redidual\", size=18)"
      ],
      "execution_count": 294,
      "outputs": [
        {
          "output_type": "execute_result",
          "data": {
            "text/plain": [
              "Text(0.5, 1.0, 'Redidual')"
            ]
          },
          "metadata": {
            "tags": []
          },
          "execution_count": 294
        },
        {
          "output_type": "display_data",
          "data": {
            "image/png": "[encoded data removed]",
            "text/plain": [
              "<Figure size 432x288 with 1 Axes>"
            ]
          },
          "metadata": {
            "tags": [],
            "needs_background": "light"
          }
        }
      ]
    },
    {
      "cell_type": "code",
      "metadata": {
        "id": "1UbT0DOhuxLH",
        "colab_type": "code",
        "colab": {
          "base_uri": "https://localhost:8080/",
          "height": 34
        },
        "outputId": "c6cda202-23b5-4123-c20e-6f987541feee"
      },
      "source": [
        "reg.intercept_"
      ],
      "execution_count": 295,
      "outputs": [
        {
          "output_type": "execute_result",
          "data": {
            "text/plain": [
              "61.69870967741937"
            ]
          },
          "metadata": {
            "tags": []
          },
          "execution_count": 295
        }
      ]
    },
    {
      "cell_type": "code",
      "metadata": {
        "id": "K1SNxh64uzze",
        "colab_type": "code",
        "colab": {
          "base_uri": "https://localhost:8080/",
          "height": 50
        },
        "outputId": "ee26e744-0891-4394-b740-25804448c8c4"
      },
      "source": [
        "reg.coef_"
      ],
      "execution_count": 296,
      "outputs": [
        {
          "output_type": "execute_result",
          "data": {
            "text/plain": [
              "array([-2.32883316,  7.93063753, -8.56952948, -5.20367269, -2.15212951,\n",
              "        0.24924936])"
            ]
          },
          "metadata": {
            "tags": []
          },
          "execution_count": 296
        }
      ]
    },
    {
      "cell_type": "code",
      "metadata": {
        "id": "teDOTEAhu0QG",
        "colab_type": "code",
        "colab": {
          "base_uri": "https://localhost:8080/",
          "height": 151
        },
        "outputId": "e953381a-ac9d-438a-b573-f06bd97f02f9"
      },
      "source": [
        "reg.predict(scaled_inputs)\n",
        "predito = reg.predict(scaled_inputs)\n",
        "reg.predict(scaled_inputs)"
      ],
      "execution_count": 297,
      "outputs": [
        {
          "output_type": "execute_result",
          "data": {
            "text/plain": [
              "array([ 55.11902151,  53.66468969,  46.25348084,  48.22362172,\n",
              "        53.62788865,  62.87963908,  75.72997766,  75.29756693,\n",
              "       102.62342098,  98.44632727,  87.40719406,  74.1306021 ,\n",
              "        56.86510444,  53.60421069,  49.44188078,  54.37051656,\n",
              "        58.0224065 ,  66.35302274,  73.46405209,  85.36079171,\n",
              "        84.74648496,  68.11327682,  73.39360089,  66.3257722 ,\n",
              "        58.75334757,  52.49295497,  35.52494708,  22.68597352,\n",
              "        25.6288907 ,  43.18618736,  50.92314791])"
            ]
          },
          "metadata": {
            "tags": []
          },
          "execution_count": 297
        }
      ]
    },
    {
      "cell_type": "markdown",
      "metadata": {
        "id": "dfDZQCql01n6",
        "colab_type": "text"
      },
      "source": [
        "##Verificacao do modelo"
      ]
    },
    {
      "cell_type": "markdown",
      "metadata": {
        "id": "GOlrWtHP04U7",
        "colab_type": "text"
      },
      "source": [
        "## R ao quadrado\n",
        "\n",
        "Quanto mais proximo de 1 for o R ao quadrado, melhor representa o modelo matematico com o observado."
      ]
    },
    {
      "cell_type": "code",
      "metadata": {
        "id": "cq_vGjzBuu4-",
        "colab_type": "code",
        "colab": {
          "base_uri": "https://localhost:8080/",
          "height": 34
        },
        "outputId": "df57f962-5dea-4dc1-a81e-1cbcecfa8483"
      },
      "source": [
        "reg.score(scaled_inputs ,alvo)"
      ],
      "execution_count": 298,
      "outputs": [
        {
          "output_type": "execute_result",
          "data": {
            "text/plain": [
              "0.8158845645915173"
            ]
          },
          "metadata": {
            "tags": []
          },
          "execution_count": 298
        }
      ]
    },
    {
      "cell_type": "markdown",
      "metadata": {
        "id": "6uk7xAME1DEV",
        "colab_type": "text"
      },
      "source": [
        "Nosso R ao quadrado chegou a 0.875, sendo um valor bom."
      ]
    },
    {
      "cell_type": "markdown",
      "metadata": {
        "id": "K4bBO5mn0QA1",
        "colab_type": "text"
      },
      "source": [
        "## Erro Quadrático Médio\n",
        "\n",
        "O M.S.E. é a média do quadrado do desvio entre os valores preditos e os observados, opta-se para escolha de um valor baixo para SME."
      ]
    },
    {
      "cell_type": "code",
      "metadata": {
        "id": "Fnrvcgdtu5Sm",
        "colab_type": "code",
        "colab": {
          "base_uri": "https://localhost:8080/",
          "height": 34
        },
        "outputId": "1053c918-ebb8-4b81-aa0a-6e32fd37e4d3"
      },
      "source": [
        "from sklearn.metrics import mean_squared_error\n",
        "mean_squared_error(alvo, predito)"
      ],
      "execution_count": 299,
      "outputs": [
        {
          "output_type": "execute_result",
          "data": {
            "text/plain": [
              "77.41122879306165"
            ]
          },
          "metadata": {
            "tags": []
          },
          "execution_count": 299
        }
      ]
    },
    {
      "cell_type": "markdown",
      "metadata": {
        "id": "fSHjAQHD0wXT",
        "colab_type": "text"
      },
      "source": [
        ""
      ]
    },
    {
      "cell_type": "markdown",
      "metadata": {
        "id": "kkQcDUh1zsOk",
        "colab_type": "text"
      },
      "source": [
        "##Erro Percentual Absoluto médio\n",
        "\n",
        "O MAPE é a média de todos os erros absolut percetuais e indica a média do erro absoluto em termos percentuais, independete se este erro for negativo ou posivivo, assim quanto menor for o MAPE mais acurado é o modelo"
      ]
    },
    {
      "cell_type": "code",
      "metadata": {
        "id": "t29NWeHVvBLe",
        "colab_type": "code",
        "colab": {
          "base_uri": "https://localhost:8080/",
          "height": 34
        },
        "outputId": "533bef89-5a09-4d0a-f4be-1c94e24a40ee"
      },
      "source": [
        "def mean_absolute_percentage_error(y_true, y_pred): \n",
        "    y_true, y_pred = np.array(y_true), np.array(y_pred)\n",
        "    return np.mean(np.abs((y_true - y_pred) / y_true)) * 100\n",
        "\n",
        "mean_absolute_percentage_error(alvo, predito)"
      ],
      "execution_count": 300,
      "outputs": [
        {
          "output_type": "execute_result",
          "data": {
            "text/plain": [
              "15.072927726549187"
            ]
          },
          "metadata": {
            "tags": []
          },
          "execution_count": 300
        }
      ]
    },
    {
      "cell_type": "markdown",
      "metadata": {
        "id": "ZHAO_v3G0DNz",
        "colab_type": "text"
      },
      "source": [
        "Analisando o MAPE da regressâo temos um valor ótimo, sendo que aglumas literaturas identificam como bom <= a 50"
      ]
    },
    {
      "cell_type": "code",
      "metadata": {
        "id": "jZ_efQiFvEzN",
        "colab_type": "code",
        "colab": {
          "base_uri": "https://localhost:8080/",
          "height": 34
        },
        "outputId": "8a5b5c42-f43d-4771-d7b6-790c47d9a076"
      },
      "source": [
        "def desvio_medio_absoluto(y_true, y_pred): \n",
        "    y_true, y_pred = np.array(y_true), np.array(y_pred)\n",
        "    return np.sum(np.abs((y_pred - y_true))) * len(y_true)\n",
        "\n",
        "desvio_medio_absoluto(alvo, predito)"
      ],
      "execution_count": 301,
      "outputs": [
        {
          "output_type": "execute_result",
          "data": {
            "text/plain": [
              "6938.744499196617"
            ]
          },
          "metadata": {
            "tags": []
          },
          "execution_count": 301
        }
      ]
    },
    {
      "cell_type": "markdown",
      "metadata": {
        "id": "jKvKjmqgxPc6",
        "colab_type": "text"
      },
      "source": [
        "##BIAS\n",
        "\n",
        "Bias é o erro sistemático associado à análise. Ele mede a tendência de o modelo suprestimar ou substmar o valor predito em relação ao valor observado."
      ]
    },
    {
      "cell_type": "code",
      "metadata": {
        "id": "FxWGNOg5w-e_",
        "colab_type": "code",
        "colab": {
          "base_uri": "https://localhost:8080/",
          "height": 34
        },
        "outputId": "dc3f6384-c323-48b4-8d77-8accb0a674a6"
      },
      "source": [
        "def bias(y_true, y_pred): \n",
        "    y_true, y_pred = np.array(y_true), np.array(y_pred)\n",
        "    return np.sum(((y_pred - y_true))) * len(y_true)\n",
        "\n",
        "bias(alvo, predito)"
      ],
      "execution_count": 302,
      "outputs": [
        {
          "output_type": "execute_result",
          "data": {
            "text/plain": [
              "1.233502189279534e-11"
            ]
          },
          "metadata": {
            "tags": []
          },
          "execution_count": 302
        }
      ]
    },
    {
      "cell_type": "markdown",
      "metadata": {
        "id": "SCm2XQ7yx4q2",
        "colab_type": "text"
      },
      "source": [
        "O valor do BIAS da regressão deu zero sendo um excelente"
      ]
    },
    {
      "cell_type": "markdown",
      "metadata": {
        "id": "FImWtUDE9b94",
        "colab_type": "text"
      },
      "source": [
        "#Regressão Polinomial\n",
        "* Mas como o foco é o preço médio da saca de arrroz vs o nível de produtividade, logo, vamos realizar uma regreção polinimial para identificar com mais clareza a relação não lienar que essa variáveis detem, visto em gráficos anteriores.\n",
        "---\n"
      ]
    },
    {
      "cell_type": "code",
      "metadata": {
        "id": "nZVPfk369cr8",
        "colab_type": "code",
        "colab": {
          "base_uri": "https://localhost:8080/",
          "height": 238
        },
        "outputId": "021a2d4c-6319-4cb0-f417-f2eafccb9ddb"
      },
      "source": [
        "#Importando os dados para as variáveis\n",
        "X = np.array(alegrete_df.iloc[:,1]).reshape((-1, 1))\n",
        "Y = np.array(alegrete_df.iloc[:,3:9])\n",
        "\n",
        "#Caso queira normalizar os dados antes de colocalos no modelo\n",
        "#X_scaled = preprocessing.scale(x)\n",
        "#Y_scaled = preprocessing.scale(y)\n",
        "\n",
        "#Trnasformando os dados de entrada\n",
        "x_ = PolynomialFeatures(degree=2, include_bias=False).fit_transform(X) ##include_bias=True\n",
        "\n",
        "#Criando modelo e o fit\n",
        "model = LinearRegression().fit(x_, Y)\n",
        "\n",
        "#Respostas do Modelo de RPM\n",
        "r_sq = model.score(x_, Y)\n",
        "intercept2, coefficients2 = model.intercept_, model.coef_\n",
        "\n",
        "print('coefficient of determination:', r_sq)\n",
        "print(\"\")\n",
        "print('intercept:', model.intercept_)\n",
        "print(\"\")\n",
        "print('coefficients:', model.coef_)"
      ],
      "execution_count": 303,
      "outputs": [
        {
          "output_type": "stream",
          "text": [
            "coefficient of determination: 0.38852119987335804\n",
            "\n",
            "intercept: [76.19607153 64.46304076 20.04459424 33.29359586  2.06384676 46.98748588]\n",
            "\n",
            "coefficients: [[ 8.82289718e-02 -1.25783722e-03]\n",
            " [ 1.23935493e+01 -8.89935904e-02]\n",
            " [ 1.83870258e-01 -2.63978085e-03]\n",
            " [ 1.93689864e-01 -2.27303455e-03]\n",
            " [ 2.76778545e-01 -3.63212079e-03]\n",
            " [-2.64410970e-01  2.47061840e-03]]\n"
          ],
          "name": "stdout"
        },
        {
          "output_type": "stream",
          "text": [
            "/usr/local/lib/python3.6/dist-packages/sklearn/base.py:434: FutureWarning: The default value of multioutput (not exposed in score method) will change from 'variance_weighted' to 'uniform_average' in 0.23 to keep consistent with 'metrics.r2_score'. To specify the default value manually and avoid the warning, please either call 'metrics.r2_score' directly or make a custom scorer with 'metrics.make_scorer' (the built-in scorer 'r2' uses multioutput='uniform_average').\n",
            "  \"multioutput='uniform_average').\", FutureWarning)\n"
          ],
          "name": "stderr"
        }
      ]
    },
    {
      "cell_type": "markdown",
      "metadata": {
        "id": "qvx0zHdovAZK",
        "colab_type": "text"
      },
      "source": [
        "###OBS.: Podemos observar que o nosso R² para o modelo de RPM foi muito baixo, sendo R² = 0,2675. Portanto esse modelos não é tão adequado para esses dados.\n",
        "---   "
      ]
    },
    {
      "cell_type": "markdown",
      "metadata": {
        "id": "_NZxLjKfq-Wi",
        "colab_type": "text"
      },
      "source": [
        "###Predição dos dados pelo modelo de RPM"
      ]
    },
    {
      "cell_type": "code",
      "metadata": {
        "id": "Fc5u_fJQ4NHq",
        "colab_type": "code",
        "colab": {}
      },
      "source": [
        "X = np.array(alegrete_df.iloc[:,1])\n",
        "Y = np.array(alegrete_df.iloc[:,3:9])\n",
        "y_pred = model.predict(x_)\n"
      ],
      "execution_count": 304,
      "outputs": []
    },
    {
      "cell_type": "markdown",
      "metadata": {
        "id": "7ZcUmh3aviix",
        "colab_type": "text"
      },
      "source": [
        "###Medidads para a validação do modelo"
      ]
    },
    {
      "cell_type": "code",
      "metadata": {
        "id": "y0q9jG5aAPJA",
        "colab_type": "code",
        "colab": {
          "base_uri": "https://localhost:8080/",
          "height": 34
        },
        "outputId": "bba572da-4d23-4cd5-94cd-9b139efe70c0"
      },
      "source": [
        "mean_squared_error(Y, y_pred)"
      ],
      "execution_count": 305,
      "outputs": [
        {
          "output_type": "execute_result",
          "data": {
            "text/plain": [
              "742.2935806488935"
            ]
          },
          "metadata": {
            "tags": []
          },
          "execution_count": 305
        }
      ]
    },
    {
      "cell_type": "code",
      "metadata": {
        "id": "DjwIgUFg4QOC",
        "colab_type": "code",
        "colab": {
          "base_uri": "https://localhost:8080/",
          "height": 34
        },
        "outputId": "e0acc1a4-32cd-43ff-f17a-131a2a3e87f4"
      },
      "source": [
        "mean_absolute_percentage_error(Y, y_pred)"
      ],
      "execution_count": 306,
      "outputs": [
        {
          "output_type": "execute_result",
          "data": {
            "text/plain": [
              "35.147561265691564"
            ]
          },
          "metadata": {
            "tags": []
          },
          "execution_count": 306
        }
      ]
    },
    {
      "cell_type": "code",
      "metadata": {
        "id": "b4UnZLyG4SJ4",
        "colab_type": "code",
        "colab": {
          "base_uri": "https://localhost:8080/",
          "height": 34
        },
        "outputId": "5341a8dd-7861-463b-ea63-f154fee7877b"
      },
      "source": [
        "desvio_medio_absoluto(Y, y_pred)"
      ],
      "execution_count": 307,
      "outputs": [
        {
          "output_type": "execute_result",
          "data": {
            "text/plain": [
              "54631.405818122854"
            ]
          },
          "metadata": {
            "tags": []
          },
          "execution_count": 307
        }
      ]
    },
    {
      "cell_type": "code",
      "metadata": {
        "id": "WyjCYhyM4UOY",
        "colab_type": "code",
        "colab": {
          "base_uri": "https://localhost:8080/",
          "height": 34
        },
        "outputId": "61fd692d-d4dc-4bbb-df87-28ca7a4c225a"
      },
      "source": [
        "bias(Y, y_pred)"
      ],
      "execution_count": 308,
      "outputs": [
        {
          "output_type": "execute_result",
          "data": {
            "text/plain": [
              "-1.638795765757095e-10"
            ]
          },
          "metadata": {
            "tags": []
          },
          "execution_count": 308
        }
      ]
    },
    {
      "cell_type": "markdown",
      "metadata": {
        "id": "1ZC3WaC28C5Q",
        "colab_type": "text"
      },
      "source": [
        "#Resultados\n",
        "\n",
        "* Aqui apresentaremos as diferenças entre os dois modelos"
      ]
    },
    {
      "cell_type": "markdown",
      "metadata": {
        "id": "dOyjb46VFmFy",
        "colab_type": "text"
      },
      "source": [
        "## Comparativo\n",
        "\n",
        "* Segue uma analise comparativa entre os dois modelos matematicos "
      ]
    },
    {
      "cell_type": "code",
      "metadata": {
        "id": "CE9sW0W8Dhl1",
        "colab_type": "code",
        "colab": {
          "base_uri": "https://localhost:8080/",
          "height": 118
        },
        "outputId": "94d92312-0550-4c7e-e2e1-8f6014c8dac3"
      },
      "source": [
        "print(\"    \", \"RPM\",\" \", \"RLM\")\n",
        "print(\"R^2  \", str(r_sq)[:4], str(reg.score(scaled_inputs ,alvo))[:4])\n",
        "print(\"MSE  \", str(mean_squared_error(Y, y_pred))[:4], str(mean_squared_error(alvo, predito))[:4])\n",
        "print(\"MAPE \", str(mean_absolute_percentage_error(Y, y_pred))[:4], str(desvio_medio_absoluto(alvo, predito))[:4])\n",
        "print(\"MAD \", str(desvio_medio_absoluto(Y, y_pred))[:4], str(desvio_medio_absoluto(alvo, predito))[:4])\n",
        "print(\"Bias\", str(bias(Y, y_pred))[:4], str(bias(alvo, predito))[:4])"
      ],
      "execution_count": 309,
      "outputs": [
        {
          "output_type": "stream",
          "text": [
            "     RPM   RLM\n",
            "R^2   0.38 0.81\n",
            "MSE   742. 77.4\n",
            "MAPE  35.1 6938\n",
            "MAD  5463 6938\n",
            "Bias -1.6 1.23\n"
          ],
          "name": "stdout"
        }
      ]
    },
    {
      "cell_type": "markdown",
      "metadata": {
        "id": "8xC-RpixGnCh",
        "colab_type": "text"
      },
      "source": [
        "###Portanto a modelagem matematica de melhor acuracidade é a REGRESSÃO LINEAR MULTIPLA, pois contempla um R² maior.\n",
        "---\n"
      ]
    },
    {
      "cell_type": "markdown",
      "metadata": {
        "id": "VFvlWWp2HMcS",
        "colab_type": "text"
      },
      "source": [
        "#Programa\n"
      ]
    },
    {
      "cell_type": "markdown",
      "metadata": {
        "id": "jUcmRvBHHPrQ",
        "colab_type": "text"
      },
      "source": [
        "Aqui iremos fazer um exemplo dos dados de entrada para o sistema:"
      ]
    },
    {
      "cell_type": "code",
      "metadata": {
        "id": "GUGxAT1OG11o",
        "colab_type": "code",
        "colab": {
          "base_uri": "https://localhost:8080/",
          "height": 50
        },
        "outputId": "06307318-b29b-4549-936d-5e4de9c110e4"
      },
      "source": [
        "data_cutivo = '11/01/2020'\n",
        "tipo_cutivo = \"arroz ciclo 120d\"\n",
        "previsao_preco_saca = 43\n",
        "ha = 12\n",
        "data_teste = { 'TOTAL_DE_DIAS_SEM_CHUVA' :[78],\n",
        "        'CHUVA_DO_PERIODO': [477],\n",
        "        'TEMPERATURA_MEDIA': [15],\n",
        "        'MAIOR_TEMPERATURA_MAX':  [22],\n",
        "        'MENOR_TEMPERATURA_MIN':  [10],\n",
        "        \"Nacional\": [previsao_preco_saca]\n",
        "        }\n",
        "teste = pd.DataFrame (data_teste, columns =['TOTAL_DE_DIAS_SEM_CHUVA', 'CHUVA_DO_PERIODO', 'TEMPERATURA_MEDIA','MAIOR_TEMPERATURA_MAX', 'MENOR_TEMPERATURA_MIN',  \"Nacional\" ])\n",
        "teste.head()\n",
        "scaled_teste = preprocessing.scale(teste)\n",
        "\n",
        "\n",
        "text_sucesso = (\"Previsão de sucesso da produção em: %s \") % (str(reg.predict(scaled_teste)[0])[:5])\n",
        "previsao = reg.predict(scaled_teste)[0]\n",
        "min_saca = 105\n",
        "max_saca = 150\n",
        "text_valor_gerado = (\"Valor da produção de R$: %s a R$:%s\") % ((ha*min_saca*previsao), (ha*max_saca*previsao))\n",
        "print(text_sucesso)\n",
        "print(text_valor_gerado)"
      ],
      "execution_count": 310,
      "outputs": [
        {
          "output_type": "stream",
          "text": [
            "Previsão de sucesso da produção em: 61.69 \n",
            "Valor da produção de R$: 77740.37419354841 a R$:111057.67741935488\n"
          ],
          "name": "stdout"
        }
      ]
    }
  ]
}