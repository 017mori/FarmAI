{
  "nbformat": 4,
  "nbformat_minor": 0,
  "metadata": {
    "colab": {
      "name": "arroz.ipynb",
      "provenance": [],
      "authorship_tag": "ABX9TyNNMPVXTiIEEG9iD+IefgVD",
      "include_colab_link": true
    },
    "kernelspec": {
      "name": "python3",
      "display_name": "Python 3"
    }
  },
  "cells": [
    {
      "cell_type": "markdown",
      "metadata": {
        "id": "view-in-github",
        "colab_type": "text"
      },
      "source": [
        "<a href=\"https://colab.research.google.com/github/017mori/FarmAI/blob/master/An%C3%A1lises.ipynb\" target=\"_parent\"><img src=\"https://colab.research.google.com/assets/colab-badge.svg\" alt=\"Open In Colab\"/></a>"
      ]
    },
    {
      "cell_type": "markdown",
      "metadata": {
        "id": "i4KUm0ZPfCDA",
        "colab_type": "text"
      },
      "source": [
        "\n",
        "# Analise sobre o preço médio de arroz no RG vs Produtividade no RG.\n",
        "* Para saber mais sobre regreção [click aqui](https://realpython.com/linear-regression-in-python/).\n",
        "---\n"
      ]
    },
    {
      "cell_type": "code",
      "metadata": {
        "id": "vBdLO9KtekLY",
        "colab_type": "code",
        "colab": {}
      },
      "source": [
        "#Para trabalharmos com os bancos de dados\n",
        "import pandas as pd\n",
        "import numpy as np\n",
        "\n",
        "#Para as regreções\n",
        "from sklearn.linear_model import LinearRegression\n",
        "from sklearn import preprocessing\n",
        "from sklearn.preprocessing import PolynomialFeatures\n",
        "\n",
        "#Para os gráficos\n",
        "import matplotlib.pyplot as plt\n",
        "from mpl_toolkits.mplot3d import Axes3D"
      ],
      "execution_count": 48,
      "outputs": []
    },
    {
      "cell_type": "markdown",
      "metadata": {
        "id": "AnbHQ2IdfBKn",
        "colab_type": "text"
      },
      "source": [
        "##Importando os bancos de dados:\n",
        "###Sobre o banco de dados\n",
        "*   Contém variáveis de Produtividade de Arroz Arrigado em Alegrete (cidade de RS); variáveis climáticas; e os valores médio de arroz arrigado por saca de 50kg no RS;  \n",
        "*   Uma informação util é que o arroz levou 3 meses para ser colhido, logo, todo o banco de dados é um acompanhamento das variáveis durante o período de Novembro de 2019 á Julho de 2020;\n",
        "*Você pode encontrar os dados no site do [INMET](https://http://sisdagro.inmet.gov.br/sisdagro/app/monitoramento/bhc) e do [AGROLINK](https://www.agrolink.com.br/cotacoes/historico/rs/arroz-irrigado-em-casca-sc-50kg).\n",
        "\n",
        "---\n",
        "\n"
      ]
    },
    {
      "cell_type": "code",
      "metadata": {
        "id": "l2VC3hVjfAMf",
        "colab_type": "code",
        "colab": {
          "base_uri": "https://localhost:8080/",
          "height": 215
        },
        "outputId": "77aca2d0-9444-4af6-9ea5-de86e782b256"
      },
      "source": [
        "url = \"https://raw.githubusercontent.com/017mori/FarmAI/master/ALEGRETE.csv\"\n",
        "alegrete_df = pd.read_csv(url, sep =\";\", decimal=\",\")\n",
        "alegrete_df.head()"
      ],
      "execution_count": null,
      "outputs": [
        {
          "output_type": "execute_result",
          "data": {
            "text/html": [
              "<div>\n",
              "<style scoped>\n",
              "    .dataframe tbody tr th:only-of-type {\n",
              "        vertical-align: middle;\n",
              "    }\n",
              "\n",
              "    .dataframe tbody tr th {\n",
              "        vertical-align: top;\n",
              "    }\n",
              "\n",
              "    .dataframe thead th {\n",
              "        text-align: right;\n",
              "    }\n",
              "</style>\n",
              "<table border=\"1\" class=\"dataframe\">\n",
              "  <thead>\n",
              "    <tr style=\"text-align: right;\">\n",
              "      <th></th>\n",
              "      <th>DATA</th>\n",
              "      <th>PRODUTIVIDADE_FINAL</th>\n",
              "      <th>PERDA_FINAL</th>\n",
              "      <th>TOTAL_DE_DIAS_SEM_CHUVA</th>\n",
              "      <th>CHUVA_DO_PERIODO</th>\n",
              "      <th>TEMPERATURA_MEDIA</th>\n",
              "      <th>MAIOR_TEMPERATURA_MAX</th>\n",
              "      <th>MENOR_TEMPERATURA_MIN</th>\n",
              "      <th>Estadual</th>\n",
              "      <th>Nacional</th>\n",
              "    </tr>\n",
              "  </thead>\n",
              "  <tbody>\n",
              "    <tr>\n",
              "      <th>0</th>\n",
              "      <td>01/11/2019</td>\n",
              "      <td>0.7262</td>\n",
              "      <td>0.2738</td>\n",
              "      <td>78</td>\n",
              "      <td>477</td>\n",
              "      <td>15.88</td>\n",
              "      <td>37.4</td>\n",
              "      <td>-3.2</td>\n",
              "      <td>45.5056</td>\n",
              "      <td>45.3202</td>\n",
              "    </tr>\n",
              "    <tr>\n",
              "      <th>1</th>\n",
              "      <td>01/12/2019</td>\n",
              "      <td>0.5767</td>\n",
              "      <td>0.4233</td>\n",
              "      <td>76</td>\n",
              "      <td>474</td>\n",
              "      <td>18.43</td>\n",
              "      <td>37.4</td>\n",
              "      <td>1.7</td>\n",
              "      <td>45.9425</td>\n",
              "      <td>45.2417</td>\n",
              "    </tr>\n",
              "    <tr>\n",
              "      <th>2</th>\n",
              "      <td>01/01/2020</td>\n",
              "      <td>0.6732</td>\n",
              "      <td>0.3268</td>\n",
              "      <td>77</td>\n",
              "      <td>479</td>\n",
              "      <td>20.88</td>\n",
              "      <td>39.3</td>\n",
              "      <td>3.2</td>\n",
              "      <td>46.9230</td>\n",
              "      <td>46.1679</td>\n",
              "    </tr>\n",
              "    <tr>\n",
              "      <th>3</th>\n",
              "      <td>01/02/2020</td>\n",
              "      <td>0.4276</td>\n",
              "      <td>0.5724</td>\n",
              "      <td>77</td>\n",
              "      <td>502</td>\n",
              "      <td>23.14</td>\n",
              "      <td>39.3</td>\n",
              "      <td>8.8</td>\n",
              "      <td>48.6878</td>\n",
              "      <td>47.8821</td>\n",
              "    </tr>\n",
              "    <tr>\n",
              "      <th>4</th>\n",
              "      <td>01/03/2020</td>\n",
              "      <td>0.2363</td>\n",
              "      <td>0.7637</td>\n",
              "      <td>83</td>\n",
              "      <td>358</td>\n",
              "      <td>24.15</td>\n",
              "      <td>39.3</td>\n",
              "      <td>8.6</td>\n",
              "      <td>49.5096</td>\n",
              "      <td>49.2383</td>\n",
              "    </tr>\n",
              "  </tbody>\n",
              "</table>\n",
              "</div>"
            ],
            "text/plain": [
              "         DATA  PRODUTIVIDADE_FINAL  ...  Estadual  Nacional\n",
              "0  01/11/2019               0.7262  ...   45.5056   45.3202\n",
              "1  01/12/2019               0.5767  ...   45.9425   45.2417\n",
              "2  01/01/2020               0.6732  ...   46.9230   46.1679\n",
              "3  01/02/2020               0.4276  ...   48.6878   47.8821\n",
              "4  01/03/2020               0.2363  ...   49.5096   49.2383\n",
              "\n",
              "[5 rows x 10 columns]"
            ]
          },
          "metadata": {
            "tags": []
          },
          "execution_count": 36
        }
      ]
    },
    {
      "cell_type": "markdown",
      "metadata": {
        "id": "k-43XrHNjjHq",
        "colab_type": "text"
      },
      "source": [
        "#Analise das variáveis do banco de dados:\n",
        "---"
      ]
    },
    {
      "cell_type": "code",
      "metadata": {
        "id": "H7WInoAQjogW",
        "colab_type": "code",
        "colab": {
          "base_uri": "https://localhost:8080/",
          "height": 302
        },
        "outputId": "cdc5e99b-1942-4b0b-a483-8757d10da119"
      },
      "source": [
        "alegrete_df.info()"
      ],
      "execution_count": null,
      "outputs": [
        {
          "output_type": "stream",
          "text": [
            "<class 'pandas.core.frame.DataFrame'>\n",
            "RangeIndex: 9 entries, 0 to 8\n",
            "Data columns (total 10 columns):\n",
            " #   Column                   Non-Null Count  Dtype  \n",
            "---  ------                   --------------  -----  \n",
            " 0   DATA                     9 non-null      object \n",
            " 1   PRODUTIVIDADE_FINAL      9 non-null      float64\n",
            " 2   PERDA_FINAL              9 non-null      float64\n",
            " 3   TOTAL_DE_DIAS_SEM_CHUVA  9 non-null      int64  \n",
            " 4   CHUVA_DO_PERIODO         9 non-null      int64  \n",
            " 5   TEMPERATURA_MEDIA        9 non-null      float64\n",
            " 6   MAIOR_TEMPERATURA_MAX    9 non-null      float64\n",
            " 7   MENOR_TEMPERATURA_MIN    9 non-null      float64\n",
            " 8   Estadual                 9 non-null      float64\n",
            " 9   Nacional                 9 non-null      float64\n",
            "dtypes: float64(7), int64(2), object(1)\n",
            "memory usage: 848.0+ bytes\n"
          ],
          "name": "stdout"
        }
      ]
    },
    {
      "cell_type": "markdown",
      "metadata": {
        "id": "9C2ScD23l2WI",
        "colab_type": "text"
      },
      "source": [
        "#Analise descritiva dos dados:\n",
        "* Rodamos um comando para demonstrar as medidas mais importantes de todas as variáveis.\n",
        "---"
      ]
    },
    {
      "cell_type": "code",
      "metadata": {
        "id": "TUQWWiJnkmlK",
        "colab_type": "code",
        "colab": {
          "base_uri": "https://localhost:8080/",
          "height": 284
        },
        "outputId": "e0cbdc4c-1599-4718-f3c1-d8fc91107db2"
      },
      "source": [
        "alegrete_df.describe()"
      ],
      "execution_count": null,
      "outputs": [
        {
          "output_type": "execute_result",
          "data": {
            "text/html": [
              "<div>\n",
              "<style scoped>\n",
              "    .dataframe tbody tr th:only-of-type {\n",
              "        vertical-align: middle;\n",
              "    }\n",
              "\n",
              "    .dataframe tbody tr th {\n",
              "        vertical-align: top;\n",
              "    }\n",
              "\n",
              "    .dataframe thead th {\n",
              "        text-align: right;\n",
              "    }\n",
              "</style>\n",
              "<table border=\"1\" class=\"dataframe\">\n",
              "  <thead>\n",
              "    <tr style=\"text-align: right;\">\n",
              "      <th></th>\n",
              "      <th>PRODUTIVIDADE_FINAL</th>\n",
              "      <th>PERDA_FINAL</th>\n",
              "      <th>TOTAL_DE_DIAS_SEM_CHUVA</th>\n",
              "      <th>CHUVA_DO_PERIODO</th>\n",
              "      <th>TEMPERATURA_MEDIA</th>\n",
              "      <th>MAIOR_TEMPERATURA_MAX</th>\n",
              "      <th>MENOR_TEMPERATURA_MIN</th>\n",
              "      <th>Estadual</th>\n",
              "      <th>Nacional</th>\n",
              "    </tr>\n",
              "  </thead>\n",
              "  <tbody>\n",
              "    <tr>\n",
              "      <th>count</th>\n",
              "      <td>9.000000</td>\n",
              "      <td>9.000000</td>\n",
              "      <td>9.000000</td>\n",
              "      <td>9.000000</td>\n",
              "      <td>9.000000</td>\n",
              "      <td>9.000000</td>\n",
              "      <td>9.000000</td>\n",
              "      <td>9.000000</td>\n",
              "      <td>9.000000</td>\n",
              "    </tr>\n",
              "    <tr>\n",
              "      <th>mean</th>\n",
              "      <td>0.437911</td>\n",
              "      <td>0.562089</td>\n",
              "      <td>84.555556</td>\n",
              "      <td>380.111111</td>\n",
              "      <td>21.212222</td>\n",
              "      <td>39.188889</td>\n",
              "      <td>4.177778</td>\n",
              "      <td>52.033400</td>\n",
              "      <td>50.916122</td>\n",
              "    </tr>\n",
              "    <tr>\n",
              "      <th>std</th>\n",
              "      <td>0.180555</td>\n",
              "      <td>0.180555</td>\n",
              "      <td>8.017342</td>\n",
              "      <td>108.060683</td>\n",
              "      <td>2.974902</td>\n",
              "      <td>1.064712</td>\n",
              "      <td>4.120612</td>\n",
              "      <td>6.489731</td>\n",
              "      <td>5.625598</td>\n",
              "    </tr>\n",
              "    <tr>\n",
              "      <th>min</th>\n",
              "      <td>0.236300</td>\n",
              "      <td>0.273800</td>\n",
              "      <td>76.000000</td>\n",
              "      <td>221.000000</td>\n",
              "      <td>15.880000</td>\n",
              "      <td>37.400000</td>\n",
              "      <td>-3.200000</td>\n",
              "      <td>45.505600</td>\n",
              "      <td>45.241700</td>\n",
              "    </tr>\n",
              "    <tr>\n",
              "      <th>25%</th>\n",
              "      <td>0.287100</td>\n",
              "      <td>0.423300</td>\n",
              "      <td>77.000000</td>\n",
              "      <td>331.000000</td>\n",
              "      <td>19.050000</td>\n",
              "      <td>39.300000</td>\n",
              "      <td>1.700000</td>\n",
              "      <td>46.923000</td>\n",
              "      <td>46.167900</td>\n",
              "    </tr>\n",
              "    <tr>\n",
              "      <th>50%</th>\n",
              "      <td>0.416300</td>\n",
              "      <td>0.583700</td>\n",
              "      <td>83.000000</td>\n",
              "      <td>358.000000</td>\n",
              "      <td>21.150000</td>\n",
              "      <td>39.300000</td>\n",
              "      <td>3.300000</td>\n",
              "      <td>49.509600</td>\n",
              "      <td>49.238300</td>\n",
              "    </tr>\n",
              "    <tr>\n",
              "      <th>75%</th>\n",
              "      <td>0.576700</td>\n",
              "      <td>0.712900</td>\n",
              "      <td>93.000000</td>\n",
              "      <td>477.000000</td>\n",
              "      <td>23.550000</td>\n",
              "      <td>40.000000</td>\n",
              "      <td>8.600000</td>\n",
              "      <td>56.039800</td>\n",
              "      <td>54.319500</td>\n",
              "    </tr>\n",
              "    <tr>\n",
              "      <th>max</th>\n",
              "      <td>0.726200</td>\n",
              "      <td>0.763700</td>\n",
              "      <td>95.000000</td>\n",
              "      <td>502.000000</td>\n",
              "      <td>24.680000</td>\n",
              "      <td>40.000000</td>\n",
              "      <td>8.800000</td>\n",
              "      <td>62.548100</td>\n",
              "      <td>60.312200</td>\n",
              "    </tr>\n",
              "  </tbody>\n",
              "</table>\n",
              "</div>"
            ],
            "text/plain": [
              "       PRODUTIVIDADE_FINAL  PERDA_FINAL  ...   Estadual   Nacional\n",
              "count             9.000000     9.000000  ...   9.000000   9.000000\n",
              "mean              0.437911     0.562089  ...  52.033400  50.916122\n",
              "std               0.180555     0.180555  ...   6.489731   5.625598\n",
              "min               0.236300     0.273800  ...  45.505600  45.241700\n",
              "25%               0.287100     0.423300  ...  46.923000  46.167900\n",
              "50%               0.416300     0.583700  ...  49.509600  49.238300\n",
              "75%               0.576700     0.712900  ...  56.039800  54.319500\n",
              "max               0.726200     0.763700  ...  62.548100  60.312200\n",
              "\n",
              "[8 rows x 9 columns]"
            ]
          },
          "metadata": {
            "tags": []
          },
          "execution_count": 38
        }
      ]
    },
    {
      "cell_type": "markdown",
      "metadata": {
        "id": "lPDCaHbXuoSB",
        "colab_type": "text"
      },
      "source": [
        "#Visualização dos dados:\n",
        "* Para não perdermos tempo, eu vou deixar aqui os gráficos das variáveis em que estamos interessados;\n",
        "---\n",
        "##Produtividade da colheita vs Dias de chuva no período.\n"
      ]
    },
    {
      "cell_type": "code",
      "metadata": {
        "id": "WpEYgIdyl9eO",
        "colab_type": "code",
        "colab": {
          "base_uri": "https://localhost:8080/",
          "height": 265
        },
        "outputId": "3530f921-975c-4f83-d982-785e6e88f914"
      },
      "source": [
        "\n",
        "plt.scatter(alegrete_df[\"PRODUTIVIDADE_FINAL\"],alegrete_df[\"CHUVA_DO_PERIODO\"])\n",
        "plt.show()"
      ],
      "execution_count": null,
      "outputs": [
        {
          "output_type": "display_data",
          "data": {
            "image/png": "[encoded data removed]",
            "text/plain": [
              "<Figure size 432x288 with 1 Axes>"
            ]
          },
          "metadata": {
            "tags": [],
            "needs_background": "light"
          }
        }
      ]
    },
    {
      "cell_type": "markdown",
      "metadata": {
        "id": "SNO1quuijR5w",
        "colab_type": "text"
      },
      "source": [
        "###Produtividade da colheita vs Preço médio da saca de arroz no estado de RS:\n"
      ]
    },
    {
      "cell_type": "code",
      "metadata": {
        "id": "U40eheov3FBq",
        "colab_type": "code",
        "colab": {
          "base_uri": "https://localhost:8080/",
          "height": 265
        },
        "outputId": "6269940e-e570-40cb-b177-b68db08a9f45"
      },
      "source": [
        "\n",
        "plt.scatter(alegrete_df[\"PRODUTIVIDADE_FINAL\"],alegrete_df[\"Estadual\"])\n",
        "plt.show()"
      ],
      "execution_count": null,
      "outputs": [
        {
          "output_type": "display_data",
          "data": {
            "image/png": "[encoded data removed]",
            "text/plain": [
              "<Figure size 432x288 with 1 Axes>"
            ]
          },
          "metadata": {
            "tags": [],
            "needs_background": "light"
          }
        }
      ]
    },
    {
      "cell_type": "markdown",
      "metadata": {
        "id": "JNX3e0ut3byF",
        "colab_type": "text"
      },
      "source": [
        "#Regressão Linear:\n",
        "* Aqui podemos ver todas as relações em que o nÍvel de produção tem em relação as outras variáveis.\n",
        "---"
      ]
    },
    {
      "cell_type": "code",
      "metadata": {
        "id": "7z4Kzt0V3m9c",
        "colab_type": "code",
        "colab": {
          "base_uri": "https://localhost:8080/",
          "height": 1000
        },
        "outputId": "c608d958-5553-46b9-a611-3facdefe7cab"
      },
      "source": [
        "\n",
        "for i in range(8):\n",
        "\n",
        "  x = alegrete_df.iloc[:,1]\n",
        "  y = alegrete_df.iloc[:,i+2]\n",
        "\n",
        "  x = x[:, np.newaxis]\n",
        "  y = y[:, np.newaxis]\n",
        "\n",
        "  model = LinearRegression()\n",
        "  model.fit(x, y)\n",
        "  y_pred = model.predict(x)\n",
        "  r_sq = model.score(x, y)\n",
        "\n",
        "  plt.scatter(x, y)\n",
        "  plt.plot(x, y_pred, color='r')\n",
        "  plt.show()\n",
        "#  print('coefficient of determination:', r_sq)\n",
        "#  print('intercept:', model.intercept_)\n",
        "#  print('slope:', model.coef_)"
      ],
      "execution_count": null,
      "outputs": [
        {
          "output_type": "display_data",
          "data": {
            "image/png": "[encoded data removed]",
            "text/plain": [
              "<Figure size 432x288 with 1 Axes>"
            ]
          },
          "metadata": {
            "tags": [],
            "needs_background": "light"
          }
        },
        {
          "output_type": "display_data",
          "data": {
            "image/png": "[encoded data removed]",
            "text/plain": [
              "<Figure size 432x288 with 1 Axes>"
            ]
          },
          "metadata": {
            "tags": [],
            "needs_background": "light"
          }
        },
        {
          "output_type": "display_data",
          "data": {
            "image/png": "[encoded data removed]",
            "text/plain": [
              "<Figure size 432x288 with 1 Axes>"
            ]
          },
          "metadata": {
            "tags": [],
            "needs_background": "light"
          }
        },
        {
          "output_type": "display_data",
          "data": {
            "image/png": "[encoded data removed]",
            "text/plain": [
              "<Figure size 432x288 with 1 Axes>"
            ]
          },
          "metadata": {
            "tags": [],
            "needs_background": "light"
          }
        },
        {
          "output_type": "display_data",
          "data": {
            "image/png": "[encoded data removed]",
            "text/plain": [
              "<Figure size 432x288 with 1 Axes>"
            ]
          },
          "metadata": {
            "tags": [],
            "needs_background": "light"
          }
        },
        {
          "output_type": "display_data",
          "data": {
            "image/png": "[encoded data removed]",
            "text/plain": [
              "<Figure size 432x288 with 1 Axes>"
            ]
          },
          "metadata": {
            "tags": [],
            "needs_background": "light"
          }
        },
        {
          "output_type": "display_data",
          "data": {
            "image/png": "[encoded data removed]",
            "text/plain": [
              "<Figure size 432x288 with 1 Axes>"
            ]
          },
          "metadata": {
            "tags": [],
            "needs_background": "light"
          }
        },
        {
          "output_type": "display_data",
          "data": {
            "image/png": "[encoded data removed]",
            "text/plain": [
              "<Figure size 432x288 with 1 Axes>"
            ]
          },
          "metadata": {
            "tags": [],
            "needs_background": "light"
          }
        }
      ]
    },
    {
      "cell_type": "markdown",
      "metadata": {
        "id": "g5Dd8212-4Yv",
        "colab_type": "text"
      },
      "source": [
        "\n",
        "#Regreção Linear Multipla\n",
        "* Sabendo que a maioria das variáveis tem alguma relação com o nível de produtividade, então resolvemos implementar a RLM para demonstrar que a maioria das variáveis estão relacionadas com o nível de produtividade.\n",
        "---"
      ]
    },
    {
      "cell_type": "code",
      "metadata": {
        "id": "c7cZbz0v_CMz",
        "colab_type": "code",
        "colab": {
          "base_uri": "https://localhost:8080/",
          "height": 34
        },
        "outputId": "a1c29e3a-dc84-464b-cb90-1a2ac6eada9b"
      },
      "source": [
        "\n",
        "y = alegrete_df.iloc[:,2]\n",
        "x = alegrete_df.iloc[:,3:10]\n",
        "x, y = np.array(x), np.array(y)\n",
        "\n",
        "model = LinearRegression().fit(x, y)\n",
        "r_sq = model.score(x, y)\n",
        "r_sq "
      ],
      "execution_count": null,
      "outputs": [
        {
          "output_type": "execute_result",
          "data": {
            "text/plain": [
              "0.9993376556382093"
            ]
          },
          "metadata": {
            "tags": []
          },
          "execution_count": 42
        }
      ]
    },
    {
      "cell_type": "code",
      "metadata": {
        "id": "9F5RdZqdAp2J",
        "colab_type": "code",
        "colab": {
          "base_uri": "https://localhost:8080/",
          "height": 34
        },
        "outputId": "6626305a-010c-4cc2-f833-3aa2db9db243"
      },
      "source": [
        "model.intercept_"
      ],
      "execution_count": null,
      "outputs": [
        {
          "output_type": "execute_result",
          "data": {
            "text/plain": [
              "3.829487874562121"
            ]
          },
          "metadata": {
            "tags": []
          },
          "execution_count": 43
        }
      ]
    },
    {
      "cell_type": "code",
      "metadata": {
        "id": "MVcYiBWsAw_Z",
        "colab_type": "code",
        "colab": {
          "base_uri": "https://localhost:8080/",
          "height": 50
        },
        "outputId": "e087dd9e-273e-4f77-b378-d088c91cc5e8"
      },
      "source": [
        "model.coef_"
      ],
      "execution_count": null,
      "outputs": [
        {
          "output_type": "execute_result",
          "data": {
            "text/plain": [
              "array([ 0.0096925 ,  0.00172244,  0.21925384, -0.31898933, -0.07023409,\n",
              "       -0.08128046,  0.14987444])"
            ]
          },
          "metadata": {
            "tags": []
          },
          "execution_count": 44
        }
      ]
    },
    {
      "cell_type": "code",
      "metadata": {
        "id": "FUuSzvfkA0MY",
        "colab_type": "code",
        "colab": {
          "base_uri": "https://localhost:8080/",
          "height": 50
        },
        "outputId": "0029e55d-62e9-42d7-afad-c4d9f7f423fd"
      },
      "source": [
        "y_pred = model.predict(x)\n",
        "y_pred"
      ],
      "execution_count": null,
      "outputs": [
        {
          "output_type": "execute_result",
          "data": {
            "text/plain": [
              "array([0.27702924, 0.42015058, 0.32331453, 0.57860441, 0.76068459,\n",
              "       0.68228255, 0.72061857, 0.71184797, 0.58426757])"
            ]
          },
          "metadata": {
            "tags": []
          },
          "execution_count": 45
        }
      ]
    },
    {
      "cell_type": "markdown",
      "metadata": {
        "id": "ql4aVFG-2Tks",
        "colab_type": "text"
      },
      "source": [
        "#Regressão Polinomial\n",
        "* Mas como o foco é o preço médio da saca de arrroz vs o nível de produtividade, logo, vamos realizar uma regreção polinimial para identificar com mais clareza a relação não lienar que essa variáveis detem.\n",
        "---\n"
      ]
    },
    {
      "cell_type": "code",
      "metadata": {
        "id": "7TfcJUJq2ZeU",
        "colab_type": "code",
        "colab": {}
      },
      "source": [
        "x = np.array(alegrete_df.iloc[:,1])\n",
        "y = np.array(alegrete_df.iloc[:,9])\n",
        "\n",
        "#X_scaled = preprocessing.scale(x)\n",
        "#Y_scaled = preprocessing.scale(y)\n",
        "\n",
        "#Encontrando os coeficientes lineares e angulares\n",
        "model = LinearRegression().fit(x, y) #normalize=True\n",
        "intercept1, coefficients1 = model.intercept_, model.coef_\n",
        "print('intercept:', model.intercept_)\n",
        "print('slope:', model.coef_)\n",
        "\n",
        "#Encontrando R²\n",
        "r_sq = model.score(x, y)\n",
        "print('coefficient of determination:', r_sq)\n",
        "\n",
        "#Grafico\n",
        "X, Y, Z = x[:,0], x[:,1], y\n",
        "fig = plt.figure()\n",
        "ax = fig.add_subplot(111, projection = \"3d\")\n",
        "ax.scatter(X, Y, Z)\n",
        "ax.set_xlabel('X label')\n",
        "ax.set_ylabel('y label')\n",
        "ax.set_zlabel('z label')\n",
        "plt.show()"
      ],
      "execution_count": null,
      "outputs": []
    }
  ]
}